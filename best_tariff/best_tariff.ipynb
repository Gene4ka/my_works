{
 "cells": [
  {
   "cell_type": "markdown",
   "metadata": {},
   "source": [
    "## Определение перспективного тарифа для телеком компании"
   ]
  },
  {
   "cell_type": "markdown",
   "metadata": {},
   "source": [
    "Оператор сотовой связи предлагает своим клиентам два разных тарифных плана. Чтобы скорректировать рекламный бюджет, коммерческий департамент хочет понять, какой тариф приносит больше денег.  \n",
    "  \n",
    "Нам предстоит сделать предварительный анализ тарифов на небольшой выборке клиентов. В нашем распоряжении данные 500 пользователей «Мегалайна»: кто они, откуда, каким тарифом пользуются, сколько звонков и сообщений каждый отправил за рассматриваемый период. Учтём, что данный оператор сотовой связи всегда округляет вверх значения минут и мегабайтов. Если пользователь проговорил всего 1 секунду, в тарифе засчитывается целая минута.  \n",
    "  \n",
    "Нужно проанализировать поведение клиентов и сделать вывод — какой тариф лучше."
   ]
  },
  {
   "cell_type": "markdown",
   "metadata": {},
   "source": [
    "## План выполнения проекта"
   ]
  },
  {
   "cell_type": "markdown",
   "metadata": {},
   "source": [
    "### 1. Подготовка данных\n",
    "\n",
    "- Привести данные к нужным типам;\n",
    "- Найти и исправить ошибки в данных.\n",
    "  \n",
    "  Посчитайте для каждого пользователя:\n",
    "\n",
    "- количество сделанных звонков и израсходованных минут разговора по месяцам;\n",
    "- количество отправленных сообщений по месяцам;\n",
    "- объем израсходованного интернет-трафика по месяцам;\n",
    "- помесячную выручку с каждого пользователя."
   ]
  },
  {
   "cell_type": "markdown",
   "metadata": {},
   "source": [
    "### 2. Анализ данных\n",
    "Описать поведение клиентов оператора, исходя из выборки. \n",
    "- Сколько минут разговора, сколько сообщений и какой объём интернет-трафика требуется пользователям каждого тарифа в месяц?\n",
    "- Посчитать среднее количество, дисперсию и стандартное отклонение.\n",
    "- Построить гистограммы. Описать распределения."
   ]
  },
  {
   "cell_type": "markdown",
   "metadata": {},
   "source": [
    "### 3. Проверка гипотез\n",
    "\n",
    "- средняя выручка пользователей тарифов «Ультра» и «Смарт» различается;\n",
    "- средняя выручка пользователей из Москвы отличается от выручки пользователей из других регионов;"
   ]
  },
  {
   "cell_type": "markdown",
   "metadata": {},
   "source": [
    "### 4. Общий вывод"
   ]
  },
  {
   "cell_type": "markdown",
   "metadata": {},
   "source": [
    "### Шаг 1. Изучим общую информацию"
   ]
  },
  {
   "cell_type": "code",
   "execution_count": 1,
   "metadata": {},
   "outputs": [],
   "source": [
    "import pandas as pd\n",
    "import numpy as np\n",
    "import matplotlib.pyplot as plt\n",
    "import seaborn as sns\n",
    "from scipy import stats as st"
   ]
  },
  {
   "cell_type": "code",
   "execution_count": 2,
   "metadata": {},
   "outputs": [],
   "source": [
    "calls_data = pd.read_csv('/datasets/calls.csv', parse_dates=['call_date'])\n",
    "internet_data = pd.read_csv('/datasets/internet.csv', parse_dates=['session_date'], index_col=0)\n",
    "messages_data = pd.read_csv('/datasets/messages.csv', parse_dates=['message_date'])\n",
    "tariffs_data = pd.read_csv('/datasets/tariffs.csv')\n",
    "users_data = pd.read_csv('/datasets/users.csv', parse_dates=['reg_date', 'churn_date'])"
   ]
  },
  {
   "cell_type": "markdown",
   "metadata": {},
   "source": [
    "В ходе загрузки данных таблицы `internet_data` была обнаружена проблема. В датафрейме отображался лишний столбец с индексом. Видимо, при сохранении данных командой `to_csv` не был установлен флаг `index=False`. Чтобы верно считать эти данные, мы указали явно, какой столбец использовать как индекс."
   ]
  },
  {
   "cell_type": "code",
   "execution_count": 3,
   "metadata": {},
   "outputs": [
    {
     "name": "stdout",
     "output_type": "stream",
     "text": [
      "<class 'pandas.core.frame.DataFrame'>\n",
      "RangeIndex: 202607 entries, 0 to 202606\n",
      "Data columns (total 4 columns):\n",
      "id           202607 non-null object\n",
      "call_date    202607 non-null datetime64[ns]\n",
      "duration     202607 non-null float64\n",
      "user_id      202607 non-null int64\n",
      "dtypes: datetime64[ns](1), float64(1), int64(1), object(1)\n",
      "memory usage: 6.2+ MB\n"
     ]
    }
   ],
   "source": [
    "calls_data.info()"
   ]
  },
  {
   "cell_type": "markdown",
   "metadata": {},
   "source": [
    "В таблице 202607 строк и 4 столбца. Пропусков нет. Все типы данных верные."
   ]
  },
  {
   "cell_type": "code",
   "execution_count": 4,
   "metadata": {
    "scrolled": true
   },
   "outputs": [
    {
     "name": "stdout",
     "output_type": "stream",
     "text": [
      "<class 'pandas.core.frame.DataFrame'>\n",
      "Int64Index: 149396 entries, 0 to 149395\n",
      "Data columns (total 4 columns):\n",
      "id              149396 non-null object\n",
      "mb_used         149396 non-null float64\n",
      "session_date    149396 non-null datetime64[ns]\n",
      "user_id         149396 non-null int64\n",
      "dtypes: datetime64[ns](1), float64(1), int64(1), object(1)\n",
      "memory usage: 5.7+ MB\n"
     ]
    }
   ],
   "source": [
    "internet_data.info()"
   ]
  },
  {
   "cell_type": "markdown",
   "metadata": {},
   "source": [
    "В таблице 149396 строк и 4 столбца. Пропусков нет. Типы данных определены верно."
   ]
  },
  {
   "cell_type": "code",
   "execution_count": 5,
   "metadata": {},
   "outputs": [
    {
     "name": "stdout",
     "output_type": "stream",
     "text": [
      "<class 'pandas.core.frame.DataFrame'>\n",
      "RangeIndex: 123036 entries, 0 to 123035\n",
      "Data columns (total 3 columns):\n",
      "id              123036 non-null object\n",
      "message_date    123036 non-null datetime64[ns]\n",
      "user_id         123036 non-null int64\n",
      "dtypes: datetime64[ns](1), int64(1), object(1)\n",
      "memory usage: 2.8+ MB\n"
     ]
    }
   ],
   "source": [
    "messages_data.info()"
   ]
  },
  {
   "cell_type": "markdown",
   "metadata": {},
   "source": [
    "В таблице 123036 строк и 3 столбца. Пропусков нет. Типы данных верные."
   ]
  },
  {
   "cell_type": "code",
   "execution_count": 6,
   "metadata": {},
   "outputs": [
    {
     "name": "stdout",
     "output_type": "stream",
     "text": [
      "<class 'pandas.core.frame.DataFrame'>\n",
      "RangeIndex: 2 entries, 0 to 1\n",
      "Data columns (total 8 columns):\n",
      "messages_included        2 non-null int64\n",
      "mb_per_month_included    2 non-null int64\n",
      "minutes_included         2 non-null int64\n",
      "rub_monthly_fee          2 non-null int64\n",
      "rub_per_gb               2 non-null int64\n",
      "rub_per_message          2 non-null int64\n",
      "rub_per_minute           2 non-null int64\n",
      "tariff_name              2 non-null object\n",
      "dtypes: int64(7), object(1)\n",
      "memory usage: 256.0+ bytes\n"
     ]
    }
   ],
   "source": [
    "tariffs_data.info()"
   ]
  },
  {
   "cell_type": "markdown",
   "metadata": {},
   "source": [
    "В таблице 2 строки и 8 столбцов. Типы данных верные. Пропусков нет."
   ]
  },
  {
   "cell_type": "code",
   "execution_count": 7,
   "metadata": {},
   "outputs": [
    {
     "name": "stdout",
     "output_type": "stream",
     "text": [
      "<class 'pandas.core.frame.DataFrame'>\n",
      "RangeIndex: 500 entries, 0 to 499\n",
      "Data columns (total 8 columns):\n",
      "user_id       500 non-null int64\n",
      "age           500 non-null int64\n",
      "churn_date    38 non-null datetime64[ns]\n",
      "city          500 non-null object\n",
      "first_name    500 non-null object\n",
      "last_name     500 non-null object\n",
      "reg_date      500 non-null datetime64[ns]\n",
      "tariff        500 non-null object\n",
      "dtypes: datetime64[ns](2), int64(2), object(4)\n",
      "memory usage: 31.4+ KB\n"
     ]
    }
   ],
   "source": [
    "users_data.info()"
   ]
  },
  {
   "cell_type": "markdown",
   "metadata": {},
   "source": [
    "В таблице 500 строк и 8 столбцов. Типы данных определены верно. Пропуски только в столбце `churn_date`. Они означают, что тариф еще действует и пользователь еще не отключился от него."
   ]
  },
  {
   "cell_type": "markdown",
   "metadata": {},
   "source": [
    "### Шаг 2. Подготовка данных"
   ]
  },
  {
   "cell_type": "markdown",
   "metadata": {},
   "source": [
    "Проверим нет ли в данных аномальных значений."
   ]
  },
  {
   "cell_type": "code",
   "execution_count": 8,
   "metadata": {},
   "outputs": [
    {
     "data": {
      "text/html": [
       "<div>\n",
       "<style scoped>\n",
       "    .dataframe tbody tr th:only-of-type {\n",
       "        vertical-align: middle;\n",
       "    }\n",
       "\n",
       "    .dataframe tbody tr th {\n",
       "        vertical-align: top;\n",
       "    }\n",
       "\n",
       "    .dataframe thead th {\n",
       "        text-align: right;\n",
       "    }\n",
       "</style>\n",
       "<table border=\"1\" class=\"dataframe\">\n",
       "  <thead>\n",
       "    <tr style=\"text-align: right;\">\n",
       "      <th></th>\n",
       "      <th>messages_included</th>\n",
       "      <th>mb_per_month_included</th>\n",
       "      <th>minutes_included</th>\n",
       "      <th>rub_monthly_fee</th>\n",
       "      <th>rub_per_gb</th>\n",
       "      <th>rub_per_message</th>\n",
       "      <th>rub_per_minute</th>\n",
       "      <th>tariff_name</th>\n",
       "    </tr>\n",
       "  </thead>\n",
       "  <tbody>\n",
       "    <tr>\n",
       "      <td>0</td>\n",
       "      <td>50</td>\n",
       "      <td>15360</td>\n",
       "      <td>500</td>\n",
       "      <td>550</td>\n",
       "      <td>200</td>\n",
       "      <td>3</td>\n",
       "      <td>3</td>\n",
       "      <td>smart</td>\n",
       "    </tr>\n",
       "    <tr>\n",
       "      <td>1</td>\n",
       "      <td>1000</td>\n",
       "      <td>30720</td>\n",
       "      <td>3000</td>\n",
       "      <td>1950</td>\n",
       "      <td>150</td>\n",
       "      <td>1</td>\n",
       "      <td>1</td>\n",
       "      <td>ultra</td>\n",
       "    </tr>\n",
       "  </tbody>\n",
       "</table>\n",
       "</div>"
      ],
      "text/plain": [
       "   messages_included  mb_per_month_included  minutes_included  \\\n",
       "0                 50                  15360               500   \n",
       "1               1000                  30720              3000   \n",
       "\n",
       "   rub_monthly_fee  rub_per_gb  rub_per_message  rub_per_minute tariff_name  \n",
       "0              550         200                3               3       smart  \n",
       "1             1950         150                1               1       ultra  "
      ]
     },
     "execution_count": 8,
     "metadata": {},
     "output_type": "execute_result"
    }
   ],
   "source": [
    "tariffs_data"
   ]
  },
  {
   "cell_type": "markdown",
   "metadata": {},
   "source": [
    "С датасетом описания тарифов всё в порядке."
   ]
  },
  {
   "cell_type": "markdown",
   "metadata": {},
   "source": [
    "#### Рассмотрим данные о пользователях"
   ]
  },
  {
   "cell_type": "code",
   "execution_count": 9,
   "metadata": {
    "scrolled": true
   },
   "outputs": [
    {
     "data": {
      "text/plain": [
       "53    14\n",
       "42    14\n",
       "63    13\n",
       "71    13\n",
       "64    13\n",
       "Name: age, dtype: int64"
      ]
     },
     "execution_count": 9,
     "metadata": {},
     "output_type": "execute_result"
    }
   ],
   "source": [
    "users_data['age'].value_counts().head()"
   ]
  },
  {
   "cell_type": "markdown",
   "metadata": {},
   "source": [
    "Все значения возраста корректны."
   ]
  },
  {
   "cell_type": "code",
   "execution_count": 10,
   "metadata": {
    "scrolled": true
   },
   "outputs": [
    {
     "data": {
      "text/plain": [
       "Архангельск    1\n",
       "Астрахань      4\n",
       "Балашиха       5\n",
       "Барнаул        3\n",
       "Белгород       2\n",
       "Name: city, dtype: int64"
      ]
     },
     "execution_count": 10,
     "metadata": {},
     "output_type": "execute_result"
    }
   ],
   "source": [
    "users_data['city'].value_counts().sort_index().head()"
   ]
  },
  {
   "cell_type": "code",
   "execution_count": 11,
   "metadata": {},
   "outputs": [
    {
     "data": {
      "text/plain": [
       "76"
      ]
     },
     "execution_count": 11,
     "metadata": {},
     "output_type": "execute_result"
    }
   ],
   "source": [
    "users_data['city'].nunique()"
   ]
  },
  {
   "cell_type": "markdown",
   "metadata": {},
   "source": [
    "У нас есть записи о 76 городах. Все города записаны корректно, дубликатов нет."
   ]
  },
  {
   "cell_type": "code",
   "execution_count": 12,
   "metadata": {},
   "outputs": [
    {
     "data": {
      "text/plain": [
       "Авксентий    3\n",
       "Агата        1\n",
       "Агафья       2\n",
       "Агнесса      2\n",
       "Адам         4\n",
       "Name: first_name, dtype: int64"
      ]
     },
     "execution_count": 12,
     "metadata": {},
     "output_type": "execute_result"
    }
   ],
   "source": [
    "users_data['first_name'].value_counts().sort_index().head()"
   ]
  },
  {
   "cell_type": "code",
   "execution_count": 13,
   "metadata": {},
   "outputs": [
    {
     "data": {
      "text/plain": [
       "246"
      ]
     },
     "execution_count": 13,
     "metadata": {},
     "output_type": "execute_result"
    }
   ],
   "source": [
    "users_data['first_name'].nunique()"
   ]
  },
  {
   "cell_type": "code",
   "execution_count": 14,
   "metadata": {},
   "outputs": [
    {
     "data": {
      "text/plain": [
       "Ёлчина     1\n",
       "Ёркин      1\n",
       "Ёркина     1\n",
       "Ёрохов     2\n",
       "Ёрохова    1\n",
       "Name: last_name, dtype: int64"
      ]
     },
     "execution_count": 14,
     "metadata": {},
     "output_type": "execute_result"
    }
   ],
   "source": [
    "users_data['last_name'].value_counts().sort_index().head()"
   ]
  },
  {
   "cell_type": "code",
   "execution_count": 15,
   "metadata": {
    "scrolled": true
   },
   "outputs": [
    {
     "data": {
      "text/plain": [
       "419"
      ]
     },
     "execution_count": 15,
     "metadata": {},
     "output_type": "execute_result"
    }
   ],
   "source": [
    "users_data['last_name'].nunique()"
   ]
  },
  {
   "cell_type": "markdown",
   "metadata": {},
   "source": [
    "В списке имен есть такие как `Габриель`, `Габриэль`, `Рустем`, `Рустэм`. Будем считать их разными именами. \n",
    "Всего у нас 246 уникальных имен и 419 уникальных фамилий."
   ]
  },
  {
   "cell_type": "code",
   "execution_count": 16,
   "metadata": {},
   "outputs": [
    {
     "data": {
      "text/plain": [
       "smart    351\n",
       "ultra    149\n",
       "Name: tariff, dtype: int64"
      ]
     },
     "execution_count": 16,
     "metadata": {},
     "output_type": "execute_result"
    }
   ],
   "source": [
    "users_data['tariff'].value_counts()"
   ]
  },
  {
   "cell_type": "markdown",
   "metadata": {},
   "source": [
    "Столбец тарифов заполнен верно."
   ]
  },
  {
   "cell_type": "code",
   "execution_count": 17,
   "metadata": {},
   "outputs": [
    {
     "data": {
      "text/plain": [
       "count                     500\n",
       "unique                    270\n",
       "top       2018-05-28 00:00:00\n",
       "freq                        8\n",
       "first     2018-01-01 00:00:00\n",
       "last      2018-12-31 00:00:00\n",
       "Name: reg_date, dtype: object"
      ]
     },
     "execution_count": 17,
     "metadata": {},
     "output_type": "execute_result"
    }
   ],
   "source": [
    "users_data['reg_date'].describe()"
   ]
  },
  {
   "cell_type": "code",
   "execution_count": 18,
   "metadata": {},
   "outputs": [
    {
     "data": {
      "text/plain": [
       "38"
      ]
     },
     "execution_count": 18,
     "metadata": {},
     "output_type": "execute_result"
    }
   ],
   "source": [
    "users_data[users_data['reg_date'] < users_data['churn_date']]['churn_date'].count()"
   ]
  },
  {
   "cell_type": "markdown",
   "metadata": {},
   "source": [
    "Данные собраны за весь 2018 год. \n",
    "Дата окончания использования тарифа записана верно. Всего таких значений у нас 38 и все они позже даты начала использования тарифа."
   ]
  },
  {
   "cell_type": "markdown",
   "metadata": {},
   "source": [
    "#### Рассмотрим данные о сообщениях "
   ]
  },
  {
   "cell_type": "code",
   "execution_count": 19,
   "metadata": {},
   "outputs": [
    {
     "name": "stdout",
     "output_type": "stream",
     "text": [
      "<class 'pandas.core.frame.DataFrame'>\n",
      "RangeIndex: 123036 entries, 0 to 123035\n",
      "Data columns (total 3 columns):\n",
      "id              123036 non-null object\n",
      "message_date    123036 non-null datetime64[ns]\n",
      "user_id         123036 non-null int64\n",
      "dtypes: datetime64[ns](1), int64(1), object(1)\n",
      "memory usage: 2.8+ MB\n"
     ]
    }
   ],
   "source": [
    "messages_data.info()"
   ]
  },
  {
   "cell_type": "code",
   "execution_count": 20,
   "metadata": {},
   "outputs": [
    {
     "data": {
      "text/plain": [
       "count                  123036\n",
       "unique                    364\n",
       "top       2018-12-31 00:00:00\n",
       "freq                      859\n",
       "first     2018-01-02 00:00:00\n",
       "last      2018-12-31 00:00:00\n",
       "Name: message_date, dtype: object"
      ]
     },
     "execution_count": 20,
     "metadata": {},
     "output_type": "execute_result"
    }
   ],
   "source": [
    "messages_data['message_date'].describe()"
   ]
  },
  {
   "cell_type": "markdown",
   "metadata": {},
   "source": [
    "Сообщения не отправляли только 1 января. Большинство сообщений было отправлено 31 декабря."
   ]
  },
  {
   "cell_type": "markdown",
   "metadata": {},
   "source": [
    "#### Рассмотрим данные интернет трафика"
   ]
  },
  {
   "cell_type": "code",
   "execution_count": 21,
   "metadata": {},
   "outputs": [
    {
     "data": {
      "text/html": [
       "<div>\n",
       "<style scoped>\n",
       "    .dataframe tbody tr th:only-of-type {\n",
       "        vertical-align: middle;\n",
       "    }\n",
       "\n",
       "    .dataframe tbody tr th {\n",
       "        vertical-align: top;\n",
       "    }\n",
       "\n",
       "    .dataframe thead th {\n",
       "        text-align: right;\n",
       "    }\n",
       "</style>\n",
       "<table border=\"1\" class=\"dataframe\">\n",
       "  <thead>\n",
       "    <tr style=\"text-align: right;\">\n",
       "      <th></th>\n",
       "      <th>id</th>\n",
       "      <th>mb_used</th>\n",
       "      <th>session_date</th>\n",
       "      <th>user_id</th>\n",
       "    </tr>\n",
       "  </thead>\n",
       "  <tbody>\n",
       "    <tr>\n",
       "      <td>0</td>\n",
       "      <td>1000_0</td>\n",
       "      <td>112.95</td>\n",
       "      <td>2018-11-25</td>\n",
       "      <td>1000</td>\n",
       "    </tr>\n",
       "    <tr>\n",
       "      <td>1</td>\n",
       "      <td>1000_1</td>\n",
       "      <td>1052.81</td>\n",
       "      <td>2018-09-07</td>\n",
       "      <td>1000</td>\n",
       "    </tr>\n",
       "    <tr>\n",
       "      <td>2</td>\n",
       "      <td>1000_2</td>\n",
       "      <td>1197.26</td>\n",
       "      <td>2018-06-25</td>\n",
       "      <td>1000</td>\n",
       "    </tr>\n",
       "    <tr>\n",
       "      <td>3</td>\n",
       "      <td>1000_3</td>\n",
       "      <td>550.27</td>\n",
       "      <td>2018-08-22</td>\n",
       "      <td>1000</td>\n",
       "    </tr>\n",
       "    <tr>\n",
       "      <td>4</td>\n",
       "      <td>1000_4</td>\n",
       "      <td>302.56</td>\n",
       "      <td>2018-09-24</td>\n",
       "      <td>1000</td>\n",
       "    </tr>\n",
       "  </tbody>\n",
       "</table>\n",
       "</div>"
      ],
      "text/plain": [
       "       id  mb_used session_date  user_id\n",
       "0  1000_0   112.95   2018-11-25     1000\n",
       "1  1000_1  1052.81   2018-09-07     1000\n",
       "2  1000_2  1197.26   2018-06-25     1000\n",
       "3  1000_3   550.27   2018-08-22     1000\n",
       "4  1000_4   302.56   2018-09-24     1000"
      ]
     },
     "execution_count": 21,
     "metadata": {},
     "output_type": "execute_result"
    }
   ],
   "source": [
    "internet_data.head()"
   ]
  },
  {
   "cell_type": "code",
   "execution_count": 22,
   "metadata": {},
   "outputs": [
    {
     "data": {
      "text/plain": [
       "count    149396.000000\n",
       "mean        370.192426\n",
       "std         278.300951\n",
       "min           0.000000\n",
       "25%         138.187500\n",
       "50%         348.015000\n",
       "75%         559.552500\n",
       "max        1724.830000\n",
       "Name: mb_used, dtype: float64"
      ]
     },
     "execution_count": 22,
     "metadata": {},
     "output_type": "execute_result"
    }
   ],
   "source": [
    "internet_data['mb_used'].describe()"
   ]
  },
  {
   "cell_type": "code",
   "execution_count": 23,
   "metadata": {},
   "outputs": [
    {
     "name": "stdout",
     "output_type": "stream",
     "text": [
      "13%\n"
     ]
    }
   ],
   "source": [
    "print('{:.0%}'.format(internet_data.query('mb_used == 0')['mb_used'].shape[0] / internet_data.shape[0]))"
   ]
  },
  {
   "cell_type": "markdown",
   "metadata": {},
   "source": [
    "Судя по минимальному значению, есть пользователи, которые совсем не используют интернет. Таких в нашей выборке 13%."
   ]
  },
  {
   "cell_type": "code",
   "execution_count": 24,
   "metadata": {},
   "outputs": [
    {
     "data": {
      "text/plain": [
       "count                  149396\n",
       "unique                    365\n",
       "top       2018-12-31 00:00:00\n",
       "freq                     1057\n",
       "first     2018-01-01 00:00:00\n",
       "last      2018-12-31 00:00:00\n",
       "Name: session_date, dtype: object"
      ]
     },
     "execution_count": 24,
     "metadata": {},
     "output_type": "execute_result"
    }
   ],
   "source": [
    "internet_data['session_date'].describe()"
   ]
  },
  {
   "cell_type": "markdown",
   "metadata": {},
   "source": [
    "Наиболее часто интернет использовали также 31 декабря.  \n",
    "Данные выглядят корректно."
   ]
  },
  {
   "cell_type": "markdown",
   "metadata": {},
   "source": [
    "#### Рассмотрим данные интернет звонков"
   ]
  },
  {
   "cell_type": "code",
   "execution_count": 25,
   "metadata": {},
   "outputs": [
    {
     "data": {
      "text/plain": [
       "Index(['id', 'call_date', 'duration', 'user_id'], dtype='object')"
      ]
     },
     "execution_count": 25,
     "metadata": {},
     "output_type": "execute_result"
    }
   ],
   "source": [
    "calls_data.columns"
   ]
  },
  {
   "cell_type": "code",
   "execution_count": 26,
   "metadata": {},
   "outputs": [
    {
     "data": {
      "text/plain": [
       "count                  202607\n",
       "unique                    365\n",
       "top       2018-12-31 00:00:00\n",
       "freq                     1435\n",
       "first     2018-01-01 00:00:00\n",
       "last      2018-12-31 00:00:00\n",
       "Name: call_date, dtype: object"
      ]
     },
     "execution_count": 26,
     "metadata": {},
     "output_type": "execute_result"
    }
   ],
   "source": [
    "calls_data['call_date'].describe()"
   ]
  },
  {
   "cell_type": "code",
   "execution_count": 27,
   "metadata": {},
   "outputs": [
    {
     "data": {
      "text/plain": [
       "count    202607.000000\n",
       "mean          6.755887\n",
       "std           5.843365\n",
       "min           0.000000\n",
       "25%           1.300000\n",
       "50%           6.000000\n",
       "75%          10.700000\n",
       "max          38.000000\n",
       "Name: duration, dtype: float64"
      ]
     },
     "execution_count": 27,
     "metadata": {},
     "output_type": "execute_result"
    }
   ],
   "source": [
    "calls_data['duration'].describe()"
   ]
  },
  {
   "cell_type": "markdown",
   "metadata": {},
   "source": [
    "Видим минимальную длительность звонков 0 минут. Может быть, это набранные по ошибке номера - люди вовремя замечали ошибку и успевали сбросить до начала разговора. Или люди хотят, чтобы им перезвонили. Возможно, это мошенники. Посмотрим на распределение."
   ]
  },
  {
   "cell_type": "code",
   "execution_count": 28,
   "metadata": {},
   "outputs": [
    {
     "data": {
      "image/png": "[encoded data removed]",
      "text/plain": [
       "<Figure size 720x432 with 2 Axes>"
      ]
     },
     "metadata": {
      "needs_background": "light"
     },
     "output_type": "display_data"
    }
   ],
   "source": [
    "fig, (ax1, ax2) = plt.subplots(1, 2, figsize=(10, 6))\n",
    "ax1.hist('duration', data=calls_data, bins=100, label='С нулевой длительностью')\n",
    "ax1.legend()\n",
    "ax2.hist('duration', data=calls_data.query('duration > 0'), bins=100, label='Без нулевой длительности')\n",
    "ax2.legend()\n",
    "plt.title('Распределение длительности звонков')\n",
    "plt.show()"
   ]
  },
  {
   "cell_type": "markdown",
   "metadata": {},
   "source": [
    "Распределение без звонков нулевой длительности выглядит правдоподобнее. "
   ]
  },
  {
   "cell_type": "code",
   "execution_count": 29,
   "metadata": {},
   "outputs": [
    {
     "name": "stdout",
     "output_type": "stream",
     "text": [
      "19.6%\n"
     ]
    }
   ],
   "source": [
    "print('{:.1%}'.format(calls_data.query('duration == 0')['duration'].count()/calls_data.shape[0]))"
   ]
  },
  {
   "cell_type": "markdown",
   "metadata": {},
   "source": [
    "Да, таких значений много в нашей выборке. Придется от них избавляться."
   ]
  },
  {
   "cell_type": "code",
   "execution_count": 30,
   "metadata": {},
   "outputs": [
    {
     "data": {
      "text/plain": [
       "162994"
      ]
     },
     "execution_count": 30,
     "metadata": {},
     "output_type": "execute_result"
    }
   ],
   "source": [
    "calls_data.drop(calls_data.query('duration == 0').index, inplace=True)\n",
    "calls_data.shape[0]"
   ]
  },
  {
   "cell_type": "markdown",
   "metadata": {},
   "source": [
    "#### Приведем данные к нужным типам"
   ]
  },
  {
   "cell_type": "markdown",
   "metadata": {},
   "source": [
    "Округлим вверх значения минут разговора и использованного трафика в соответствии с политикой компании и сменим тип данных с `float` на `int`."
   ]
  },
  {
   "cell_type": "code",
   "execution_count": 31,
   "metadata": {},
   "outputs": [],
   "source": [
    "calls_data['duration'] = np.ceil(calls_data['duration']).astype(int)\n",
    "internet_data['mb_used'] = np.ceil(internet_data['mb_used']).astype(int)"
   ]
  },
  {
   "cell_type": "markdown",
   "metadata": {},
   "source": [
    "### Проведем расчеты"
   ]
  },
  {
   "cell_type": "markdown",
   "metadata": {},
   "source": [
    "Расчитаем количество сделанных звонков и израсходованных минут разговора по месяцам для каждого пользователя."
   ]
  },
  {
   "cell_type": "code",
   "execution_count": 32,
   "metadata": {},
   "outputs": [],
   "source": [
    "calls_data['month'] = calls_data['call_date'].dt.month"
   ]
  },
  {
   "cell_type": "code",
   "execution_count": 33,
   "metadata": {},
   "outputs": [],
   "source": [
    "calls_per_month = calls_data.pivot_table(index=['user_id', 'month'], values='duration', aggfunc=['count', 'sum'])\n",
    "calls_per_month.columns = ['calls_count', 'minutes_sum']"
   ]
  },
  {
   "cell_type": "markdown",
   "metadata": {},
   "source": [
    "Расчитаем количество отправленных сообщений по месяцам."
   ]
  },
  {
   "cell_type": "code",
   "execution_count": 34,
   "metadata": {},
   "outputs": [],
   "source": [
    "messages_data['month'] = messages_data['message_date'].dt.month"
   ]
  },
  {
   "cell_type": "code",
   "execution_count": 35,
   "metadata": {},
   "outputs": [],
   "source": [
    "messages_per_month = messages_data.pivot_table(index=['user_id', 'month'], values='id', aggfunc='count')\n",
    "messages_per_month.columns = ['messages_count']"
   ]
  },
  {
   "cell_type": "markdown",
   "metadata": {},
   "source": [
    "Рассчитаем объем израсходованного интернет-трафика по месяцам."
   ]
  },
  {
   "cell_type": "code",
   "execution_count": 36,
   "metadata": {},
   "outputs": [],
   "source": [
    "internet_data['month'] = internet_data['session_date'].dt.month\n",
    "traffic_per_month = internet_data.pivot_table(index=['user_id', 'month'], values='mb_used', aggfunc='sum')"
   ]
  },
  {
   "cell_type": "markdown",
   "metadata": {},
   "source": [
    "Соберем посчитанные столбцы в одну таблицу."
   ]
  },
  {
   "cell_type": "code",
   "execution_count": 37,
   "metadata": {},
   "outputs": [],
   "source": [
    "all_stat = pd.concat([calls_per_month, messages_per_month, traffic_per_month], axis=1)"
   ]
  },
  {
   "cell_type": "code",
   "execution_count": 38,
   "metadata": {},
   "outputs": [
    {
     "data": {
      "text/plain": [
       "calls_count        46\n",
       "minutes_sum        46\n",
       "messages_count    497\n",
       "mb_used            11\n",
       "dtype: int64"
      ]
     },
     "execution_count": 38,
     "metadata": {},
     "output_type": "execute_result"
    }
   ],
   "source": [
    "all_stat.isna().sum()"
   ]
  },
  {
   "cell_type": "markdown",
   "metadata": {},
   "source": [
    "В полученной таблице есть пропуски, так как не все пользователи каждый месяц могли одновременно тратить и смс, и минуты разговора, и мегабайты трафика. Это нормально."
   ]
  },
  {
   "cell_type": "markdown",
   "metadata": {},
   "source": [
    "Так как все значения округлены до целых, типы данных столбцов также будут целые."
   ]
  },
  {
   "cell_type": "code",
   "execution_count": 39,
   "metadata": {},
   "outputs": [],
   "source": [
    "all_stat = all_stat.apply(lambda x: x.astype('Int64'))"
   ]
  },
  {
   "cell_type": "markdown",
   "metadata": {},
   "source": [
    "Добавим в нашу результирующую таблицу столбец с тарифом и информацию о том, сколько времени используется тариф."
   ]
  },
  {
   "cell_type": "code",
   "execution_count": 40,
   "metadata": {},
   "outputs": [],
   "source": [
    "users_tariff = users_data[['user_id', 'tariff', 'churn_date', 'reg_date', 'city']].copy()\n",
    "users_tariff['days_in_use'] = users_tariff['churn_date'] - users_tariff['reg_date']\n",
    "users_tariff['days_in_use'] = (users_tariff['days_in_use']/ np.timedelta64(1, 'D')).astype('Int64')\n",
    "\n",
    "users_tariff.set_index('user_id', inplace=True)"
   ]
  },
  {
   "cell_type": "markdown",
   "metadata": {},
   "source": [
    "В ходе исследования были обнаружены пользователи, которые вообще не использовали никакие услуги оператора и отключились через несколько дней подключения. Удалим их."
   ]
  },
  {
   "cell_type": "code",
   "execution_count": 41,
   "metadata": {},
   "outputs": [],
   "source": [
    "users_tariff.drop(index=[1128, 1371], axis=0, inplace=True)"
   ]
  },
  {
   "cell_type": "markdown",
   "metadata": {},
   "source": [
    "Добавим столбец, показывающий, пользуется ли на данный момент клиент услугами компании."
   ]
  },
  {
   "cell_type": "code",
   "execution_count": 42,
   "metadata": {},
   "outputs": [],
   "source": [
    "users_tariff['is_churn'] = False\n",
    "users_tariff.loc[~users_tariff['churn_date'].isna(), 'is_churn'] = True\n",
    "users_tariff.drop(columns=['churn_date', 'reg_date'], axis=1, inplace=True)"
   ]
  },
  {
   "cell_type": "markdown",
   "metadata": {},
   "source": [
    "Добавим столбец, показывающий, пользователь из Москвы или из другого города."
   ]
  },
  {
   "cell_type": "code",
   "execution_count": 43,
   "metadata": {},
   "outputs": [],
   "source": [
    "users_tariff['is_moscow'] = False\n",
    "users_tariff.loc[users_tariff['city'] == 'Москва', 'is_moscow'] = True\n",
    "users_tariff.drop(columns=['city'], axis=1, inplace=True)"
   ]
  },
  {
   "cell_type": "code",
   "execution_count": 44,
   "metadata": {},
   "outputs": [],
   "source": [
    "all_stat = all_stat.join(users_tariff, on='user_id', how='left')"
   ]
  },
  {
   "cell_type": "code",
   "execution_count": 45,
   "metadata": {},
   "outputs": [
    {
     "data": {
      "text/html": [
       "<div>\n",
       "<style scoped>\n",
       "    .dataframe tbody tr th:only-of-type {\n",
       "        vertical-align: middle;\n",
       "    }\n",
       "\n",
       "    .dataframe tbody tr th {\n",
       "        vertical-align: top;\n",
       "    }\n",
       "\n",
       "    .dataframe thead th {\n",
       "        text-align: right;\n",
       "    }\n",
       "</style>\n",
       "<table border=\"1\" class=\"dataframe\">\n",
       "  <thead>\n",
       "    <tr style=\"text-align: right;\">\n",
       "      <th></th>\n",
       "      <th></th>\n",
       "      <th>calls_count</th>\n",
       "      <th>minutes_sum</th>\n",
       "      <th>messages_count</th>\n",
       "      <th>mb_used</th>\n",
       "      <th>tariff</th>\n",
       "      <th>days_in_use</th>\n",
       "      <th>is_churn</th>\n",
       "      <th>is_moscow</th>\n",
       "    </tr>\n",
       "    <tr>\n",
       "      <th>user_id</th>\n",
       "      <th>month</th>\n",
       "      <th></th>\n",
       "      <th></th>\n",
       "      <th></th>\n",
       "      <th></th>\n",
       "      <th></th>\n",
       "      <th></th>\n",
       "      <th></th>\n",
       "      <th></th>\n",
       "    </tr>\n",
       "  </thead>\n",
       "  <tbody>\n",
       "    <tr>\n",
       "      <td rowspan=\"5\" valign=\"top\">1000</td>\n",
       "      <td>5</td>\n",
       "      <td>17</td>\n",
       "      <td>159</td>\n",
       "      <td>22</td>\n",
       "      <td>2256</td>\n",
       "      <td>ultra</td>\n",
       "      <td>NaN</td>\n",
       "      <td>False</td>\n",
       "      <td>False</td>\n",
       "    </tr>\n",
       "    <tr>\n",
       "      <td>6</td>\n",
       "      <td>28</td>\n",
       "      <td>172</td>\n",
       "      <td>60</td>\n",
       "      <td>23257</td>\n",
       "      <td>ultra</td>\n",
       "      <td>NaN</td>\n",
       "      <td>False</td>\n",
       "      <td>False</td>\n",
       "    </tr>\n",
       "    <tr>\n",
       "      <td>7</td>\n",
       "      <td>41</td>\n",
       "      <td>340</td>\n",
       "      <td>75</td>\n",
       "      <td>14016</td>\n",
       "      <td>ultra</td>\n",
       "      <td>NaN</td>\n",
       "      <td>False</td>\n",
       "      <td>False</td>\n",
       "    </tr>\n",
       "    <tr>\n",
       "      <td>8</td>\n",
       "      <td>42</td>\n",
       "      <td>408</td>\n",
       "      <td>81</td>\n",
       "      <td>14070</td>\n",
       "      <td>ultra</td>\n",
       "      <td>NaN</td>\n",
       "      <td>False</td>\n",
       "      <td>False</td>\n",
       "    </tr>\n",
       "    <tr>\n",
       "      <td>9</td>\n",
       "      <td>46</td>\n",
       "      <td>466</td>\n",
       "      <td>57</td>\n",
       "      <td>14581</td>\n",
       "      <td>ultra</td>\n",
       "      <td>NaN</td>\n",
       "      <td>False</td>\n",
       "      <td>False</td>\n",
       "    </tr>\n",
       "  </tbody>\n",
       "</table>\n",
       "</div>"
      ],
      "text/plain": [
       "               calls_count  minutes_sum  messages_count  mb_used tariff  \\\n",
       "user_id month                                                             \n",
       "1000    5               17          159              22     2256  ultra   \n",
       "        6               28          172              60    23257  ultra   \n",
       "        7               41          340              75    14016  ultra   \n",
       "        8               42          408              81    14070  ultra   \n",
       "        9               46          466              57    14581  ultra   \n",
       "\n",
       "               days_in_use  is_churn  is_moscow  \n",
       "user_id month                                    \n",
       "1000    5              NaN     False      False  \n",
       "        6              NaN     False      False  \n",
       "        7              NaN     False      False  \n",
       "        8              NaN     False      False  \n",
       "        9              NaN     False      False  "
      ]
     },
     "execution_count": 45,
     "metadata": {},
     "output_type": "execute_result"
    }
   ],
   "source": [
    "all_stat.head()"
   ]
  },
  {
   "cell_type": "markdown",
   "metadata": {},
   "source": [
    "Вычислим помесячную выручку с каждого пользователя."
   ]
  },
  {
   "cell_type": "code",
   "execution_count": 46,
   "metadata": {},
   "outputs": [],
   "source": [
    "def calculate_total(row, tariff_info):  \n",
    "    \"\"\"\n",
    "    Подсчитывает и возвращает общий расход пользователя в месяц на сотовую связь и интернет,\n",
    "    переплату пользователя сверх тарифной ставки, величину тарифной ставки.\n",
    "    Принимает параметры:\n",
    "    row - строка таблицы с израсходованными минутами, смс и мегабайтами,\n",
    "    tariff_info - датафрейм со стоимостью услуг по тарифам.\n",
    "    \"\"\"\n",
    "    user_id = row.name[0] \n",
    "    tariff = row[\"tariff\"]\n",
    "    tariff_index = tariff_info.query('tariff_name == @tariff').index[0]\n",
    "    \n",
    "    # Информация о ценах по данному тарифу\n",
    "    tariff_data = tariff_info.loc[tariff_index]\n",
    "    \n",
    "    gb_count = 0\n",
    "    total = 0\n",
    "    overpayment = 0\n",
    "    \n",
    "    # Вычтем бесплатный лимит из суммарного количества звонков, сообщений и интернет-трафика.\n",
    "    # Остаток умножим на значение из тарифного плана.\n",
    "    minutes_left = row['minutes_sum'] - tariff_data['minutes_included']\n",
    "    if (minutes_left > 0):\n",
    "        overpayment += minutes_left * tariff_data['rub_per_minute']  \n",
    "        \n",
    "    msg_left = row['messages_count'] - tariff_data['messages_included']  \n",
    "    if (msg_left > 0):\n",
    "        overpayment += msg_left * tariff_data['rub_per_message']\n",
    "                \n",
    "    mb_left = row['mb_used'] - tariff_data['mb_per_month_included'] \n",
    "    if (mb_left > 0):\n",
    "        gb_count = np.ceil(mb_left / 1024)\n",
    "        overpayment += gb_count * tariff_data['rub_per_gb']\n",
    "    \n",
    "    # Прибавим абонентскую плату, соответствующую тарифному плану\n",
    "    total = overpayment + tariff_data['rub_monthly_fee']    \n",
    "    return total, overpayment, tariff_data['rub_monthly_fee']"
   ]
  },
  {
   "cell_type": "code",
   "execution_count": 47,
   "metadata": {},
   "outputs": [],
   "source": [
    "all_stat['total'], all_stat['overpayment'], all_stat['monthly_fee'] = \\\n",
    "zip(*all_stat.apply(calculate_total, args=(tariffs_data,), axis=1))"
   ]
  },
  {
   "cell_type": "code",
   "execution_count": 48,
   "metadata": {},
   "outputs": [
    {
     "data": {
      "text/html": [
       "<div>\n",
       "<style scoped>\n",
       "    .dataframe tbody tr th:only-of-type {\n",
       "        vertical-align: middle;\n",
       "    }\n",
       "\n",
       "    .dataframe tbody tr th {\n",
       "        vertical-align: top;\n",
       "    }\n",
       "\n",
       "    .dataframe thead th {\n",
       "        text-align: right;\n",
       "    }\n",
       "</style>\n",
       "<table border=\"1\" class=\"dataframe\">\n",
       "  <thead>\n",
       "    <tr style=\"text-align: right;\">\n",
       "      <th></th>\n",
       "      <th></th>\n",
       "      <th>calls_count</th>\n",
       "      <th>minutes_sum</th>\n",
       "      <th>messages_count</th>\n",
       "      <th>mb_used</th>\n",
       "      <th>tariff</th>\n",
       "      <th>days_in_use</th>\n",
       "      <th>is_churn</th>\n",
       "      <th>is_moscow</th>\n",
       "      <th>total</th>\n",
       "      <th>overpayment</th>\n",
       "      <th>monthly_fee</th>\n",
       "    </tr>\n",
       "    <tr>\n",
       "      <th>user_id</th>\n",
       "      <th>month</th>\n",
       "      <th></th>\n",
       "      <th></th>\n",
       "      <th></th>\n",
       "      <th></th>\n",
       "      <th></th>\n",
       "      <th></th>\n",
       "      <th></th>\n",
       "      <th></th>\n",
       "      <th></th>\n",
       "      <th></th>\n",
       "      <th></th>\n",
       "    </tr>\n",
       "  </thead>\n",
       "  <tbody>\n",
       "    <tr>\n",
       "      <td rowspan=\"5\" valign=\"top\">1000</td>\n",
       "      <td>5</td>\n",
       "      <td>17</td>\n",
       "      <td>159</td>\n",
       "      <td>22</td>\n",
       "      <td>2256</td>\n",
       "      <td>ultra</td>\n",
       "      <td>NaN</td>\n",
       "      <td>False</td>\n",
       "      <td>False</td>\n",
       "      <td>1950.0</td>\n",
       "      <td>0.0</td>\n",
       "      <td>1950</td>\n",
       "    </tr>\n",
       "    <tr>\n",
       "      <td>6</td>\n",
       "      <td>28</td>\n",
       "      <td>172</td>\n",
       "      <td>60</td>\n",
       "      <td>23257</td>\n",
       "      <td>ultra</td>\n",
       "      <td>NaN</td>\n",
       "      <td>False</td>\n",
       "      <td>False</td>\n",
       "      <td>1950.0</td>\n",
       "      <td>0.0</td>\n",
       "      <td>1950</td>\n",
       "    </tr>\n",
       "    <tr>\n",
       "      <td>7</td>\n",
       "      <td>41</td>\n",
       "      <td>340</td>\n",
       "      <td>75</td>\n",
       "      <td>14016</td>\n",
       "      <td>ultra</td>\n",
       "      <td>NaN</td>\n",
       "      <td>False</td>\n",
       "      <td>False</td>\n",
       "      <td>1950.0</td>\n",
       "      <td>0.0</td>\n",
       "      <td>1950</td>\n",
       "    </tr>\n",
       "    <tr>\n",
       "      <td>8</td>\n",
       "      <td>42</td>\n",
       "      <td>408</td>\n",
       "      <td>81</td>\n",
       "      <td>14070</td>\n",
       "      <td>ultra</td>\n",
       "      <td>NaN</td>\n",
       "      <td>False</td>\n",
       "      <td>False</td>\n",
       "      <td>1950.0</td>\n",
       "      <td>0.0</td>\n",
       "      <td>1950</td>\n",
       "    </tr>\n",
       "    <tr>\n",
       "      <td>9</td>\n",
       "      <td>46</td>\n",
       "      <td>466</td>\n",
       "      <td>57</td>\n",
       "      <td>14581</td>\n",
       "      <td>ultra</td>\n",
       "      <td>NaN</td>\n",
       "      <td>False</td>\n",
       "      <td>False</td>\n",
       "      <td>1950.0</td>\n",
       "      <td>0.0</td>\n",
       "      <td>1950</td>\n",
       "    </tr>\n",
       "  </tbody>\n",
       "</table>\n",
       "</div>"
      ],
      "text/plain": [
       "               calls_count  minutes_sum  messages_count  mb_used tariff  \\\n",
       "user_id month                                                             \n",
       "1000    5               17          159              22     2256  ultra   \n",
       "        6               28          172              60    23257  ultra   \n",
       "        7               41          340              75    14016  ultra   \n",
       "        8               42          408              81    14070  ultra   \n",
       "        9               46          466              57    14581  ultra   \n",
       "\n",
       "               days_in_use  is_churn  is_moscow   total  overpayment  \\\n",
       "user_id month                                                          \n",
       "1000    5              NaN     False      False  1950.0          0.0   \n",
       "        6              NaN     False      False  1950.0          0.0   \n",
       "        7              NaN     False      False  1950.0          0.0   \n",
       "        8              NaN     False      False  1950.0          0.0   \n",
       "        9              NaN     False      False  1950.0          0.0   \n",
       "\n",
       "               monthly_fee  \n",
       "user_id month               \n",
       "1000    5             1950  \n",
       "        6             1950  \n",
       "        7             1950  \n",
       "        8             1950  \n",
       "        9             1950  "
      ]
     },
     "execution_count": 48,
     "metadata": {},
     "output_type": "execute_result"
    }
   ],
   "source": [
    "all_stat.head()"
   ]
  },
  {
   "cell_type": "markdown",
   "metadata": {},
   "source": [
    "### Шаг 3. Анализ данных"
   ]
  },
  {
   "cell_type": "markdown",
   "metadata": {},
   "source": [
    "Опишем поведение клиентов оператора, исходя из выборки. Сколько минут разговора, сколько сообщений и какой объём интернет-трафика требуется пользователям каждого тарифа в месяц? Посчитаем среднее количество, дисперсию и стандартное отклонение."
   ]
  },
  {
   "cell_type": "code",
   "execution_count": 49,
   "metadata": {},
   "outputs": [],
   "source": [
    "def analyse_features(column):\n",
    "    \"\"\"\n",
    "    Считает дисперсию, стандартное отклонение и среднее для столбца column\n",
    "    и возвращает объект Series из этих данных\n",
    "    \"\"\"\n",
    "    variance_estimate = np.var(column, ddof=1)\n",
    "    standard_deviation = np.std(column, ddof=1)\n",
    "    mean = column.mean()    \n",
    "    stat_table = pd.Series({'variance_estimate':variance_estimate, 'standard_deviation': standard_deviation, \\\n",
    "                            'mean': mean})\n",
    "    return stat_table"
   ]
  },
  {
   "cell_type": "code",
   "execution_count": 50,
   "metadata": {},
   "outputs": [
    {
     "name": "stdout",
     "output_type": "stream",
     "text": [
      "Статистика по тарифу Smart:\n"
     ]
    },
    {
     "data": {
      "text/html": [
       "<div>\n",
       "<style scoped>\n",
       "    .dataframe tbody tr th:only-of-type {\n",
       "        vertical-align: middle;\n",
       "    }\n",
       "\n",
       "    .dataframe tbody tr th {\n",
       "        vertical-align: top;\n",
       "    }\n",
       "\n",
       "    .dataframe thead th {\n",
       "        text-align: right;\n",
       "    }\n",
       "</style>\n",
       "<table border=\"1\" class=\"dataframe\">\n",
       "  <thead>\n",
       "    <tr style=\"text-align: right;\">\n",
       "      <th></th>\n",
       "      <th>calls_count</th>\n",
       "      <th>minutes_sum</th>\n",
       "      <th>messages_count</th>\n",
       "      <th>mb_used</th>\n",
       "    </tr>\n",
       "  </thead>\n",
       "  <tbody>\n",
       "    <tr>\n",
       "      <td>variance_estimate</td>\n",
       "      <td>436.270629</td>\n",
       "      <td>35718.128534</td>\n",
       "      <td>717.594201</td>\n",
       "      <td>3.444310e+07</td>\n",
       "    </tr>\n",
       "    <tr>\n",
       "      <td>standard_deviation</td>\n",
       "      <td>20.887092</td>\n",
       "      <td>188.992403</td>\n",
       "      <td>26.787949</td>\n",
       "      <td>5.868824e+03</td>\n",
       "    </tr>\n",
       "    <tr>\n",
       "      <td>mean</td>\n",
       "      <td>47.116614</td>\n",
       "      <td>419.440342</td>\n",
       "      <td>38.716441</td>\n",
       "      <td>1.623647e+04</td>\n",
       "    </tr>\n",
       "    <tr>\n",
       "      <td>tariff_included</td>\n",
       "      <td>0.000000</td>\n",
       "      <td>500.000000</td>\n",
       "      <td>50.000000</td>\n",
       "      <td>1.536000e+04</td>\n",
       "    </tr>\n",
       "  </tbody>\n",
       "</table>\n",
       "</div>"
      ],
      "text/plain": [
       "                    calls_count   minutes_sum  messages_count       mb_used\n",
       "variance_estimate    436.270629  35718.128534      717.594201  3.444310e+07\n",
       "standard_deviation    20.887092    188.992403       26.787949  5.868824e+03\n",
       "mean                  47.116614    419.440342       38.716441  1.623647e+04\n",
       "tariff_included        0.000000    500.000000       50.000000  1.536000e+04"
      ]
     },
     "execution_count": 50,
     "metadata": {},
     "output_type": "execute_result"
    }
   ],
   "source": [
    "print('Статистика по тарифу Smart:')\n",
    "\n",
    "smart_stat = all_stat.query('tariff == \"smart\"')[['calls_count', 'minutes_sum', 'messages_count', 'mb_used']]\\\n",
    ".apply(analyse_features, axis=0)\n",
    "\n",
    "tariff_included_row = [0, tariffs_data.loc[0, 'minutes_included'], \\\n",
    "       tariffs_data.loc[0, 'messages_included'], tariffs_data.loc[0, 'mb_per_month_included']]\n",
    "smart_stat.loc['tariff_included'] = tariff_included_row\n",
    "smart_stat"
   ]
  },
  {
   "cell_type": "code",
   "execution_count": 51,
   "metadata": {},
   "outputs": [
    {
     "name": "stdout",
     "output_type": "stream",
     "text": [
      "Статистика по тарифу Ultra:\n"
     ]
    },
    {
     "data": {
      "text/html": [
       "<div>\n",
       "<style scoped>\n",
       "    .dataframe tbody tr th:only-of-type {\n",
       "        vertical-align: middle;\n",
       "    }\n",
       "\n",
       "    .dataframe tbody tr th {\n",
       "        vertical-align: top;\n",
       "    }\n",
       "\n",
       "    .dataframe thead th {\n",
       "        text-align: right;\n",
       "    }\n",
       "</style>\n",
       "<table border=\"1\" class=\"dataframe\">\n",
       "  <thead>\n",
       "    <tr style=\"text-align: right;\">\n",
       "      <th></th>\n",
       "      <th>calls_count</th>\n",
       "      <th>minutes_sum</th>\n",
       "      <th>messages_count</th>\n",
       "      <th>mb_used</th>\n",
       "    </tr>\n",
       "  </thead>\n",
       "  <tbody>\n",
       "    <tr>\n",
       "      <td>variance_estimate</td>\n",
       "      <td>1168.901212</td>\n",
       "      <td>93338.428291</td>\n",
       "      <td>2109.659183</td>\n",
       "      <td>9.904344e+07</td>\n",
       "    </tr>\n",
       "    <tr>\n",
       "      <td>standard_deviation</td>\n",
       "      <td>34.189197</td>\n",
       "      <td>305.513385</td>\n",
       "      <td>45.931026</td>\n",
       "      <td>9.952057e+03</td>\n",
       "    </tr>\n",
       "    <tr>\n",
       "      <td>mean</td>\n",
       "      <td>61.613516</td>\n",
       "      <td>547.755016</td>\n",
       "      <td>61.161006</td>\n",
       "      <td>1.968677e+04</td>\n",
       "    </tr>\n",
       "    <tr>\n",
       "      <td>tariff_included</td>\n",
       "      <td>0.000000</td>\n",
       "      <td>3000.000000</td>\n",
       "      <td>1000.000000</td>\n",
       "      <td>3.072000e+04</td>\n",
       "    </tr>\n",
       "  </tbody>\n",
       "</table>\n",
       "</div>"
      ],
      "text/plain": [
       "                    calls_count   minutes_sum  messages_count       mb_used\n",
       "variance_estimate   1168.901212  93338.428291     2109.659183  9.904344e+07\n",
       "standard_deviation    34.189197    305.513385       45.931026  9.952057e+03\n",
       "mean                  61.613516    547.755016       61.161006  1.968677e+04\n",
       "tariff_included        0.000000   3000.000000     1000.000000  3.072000e+04"
      ]
     },
     "execution_count": 51,
     "metadata": {},
     "output_type": "execute_result"
    }
   ],
   "source": [
    "print('Статистика по тарифу Ultra:')\n",
    "ultra_stat = all_stat.query('tariff == \"ultra\"')[['calls_count', 'minutes_sum', 'messages_count', 'mb_used']]\\\n",
    ".apply(analyse_features, axis=0)\n",
    "\n",
    "# Добавим строку с информацией о тарифе. Так мы сравним сколько пользователи могли потратить и сколько они потратили\n",
    "tariff_included_row = [0, tariffs_data.loc[1, 'minutes_included'], \\\n",
    "       tariffs_data.loc[1, 'messages_included'], tariffs_data.loc[1, 'mb_per_month_included']]\n",
    "\n",
    "ultra_stat.loc['tariff_included'] = tariff_included_row\n",
    "ultra_stat"
   ]
  },
  {
   "cell_type": "markdown",
   "metadata": {},
   "source": [
    "Можно сказать, что в целом на тарифе Smart пользователи меньше тратят, но и разброс их расходов велик по сравнению с пользователями тарифа Ultra.  \n",
    "На тарифе Smart люди реже звонят, меньше говорят, меньше пишут смс и меньше используют интернет. Поэтому, видимо, они и выбрали этот тариф. На тарифе Ultra пользователи используют все эти услуги в больших объемах. Также можно заметить большой разброс в использовании интернета и сумме использованных минут разговора."
   ]
  },
  {
   "cell_type": "markdown",
   "metadata": {},
   "source": [
    "Построим гистограммы распределений величин."
   ]
  },
  {
   "cell_type": "code",
   "execution_count": 52,
   "metadata": {},
   "outputs": [
    {
     "data": {
      "image/png": "[encoded data removed]",
      "text/plain": [
       "<Figure size 720x792 with 4 Axes>"
      ]
     },
     "metadata": {
      "needs_background": "light"
     },
     "output_type": "display_data"
    }
   ],
   "source": [
    "grouped_stat = all_stat.groupby('tariff')\n",
    "cols_count = 2\n",
    "rows_count = 2\n",
    "\n",
    "fig, axes = plt.subplots(rows_count, cols_count, figsize=(10, 11))\n",
    "cols = ['calls_count', 'minutes_sum', 'messages_count', 'mb_used']\n",
    "\n",
    "for i in range(0, len(cols)):\n",
    "    for name, group in grouped_stat:\n",
    "        row = i // cols_count \n",
    "        col = i % cols_count\n",
    "        sns.distplot(group[cols[i]].dropna(), kde=False, label=name, ax=axes[row, col])\n",
    "        axes[row, col].grid()       \n",
    "        axes[row, col].set_xlabel(cols[i])\n",
    "        axes[row, col].legend()\n",
    "        axes[row, col].set(title=f'Признак {cols[i]}')\n",
    "        axes[row, col].grid(True)"
   ]
  },
  {
   "cell_type": "markdown",
   "metadata": {},
   "source": [
    "Также можно привести график по выручке компании с разбиением по тарифу. "
   ]
  },
  {
   "cell_type": "code",
   "execution_count": 53,
   "metadata": {
    "scrolled": false
   },
   "outputs": [
    {
     "data": {
      "image/png": "[encoded data removed]",
      "text/plain": [
       "<Figure size 576x432 with 1 Axes>"
      ]
     },
     "metadata": {
      "needs_background": "light"
     },
     "output_type": "display_data"
    }
   ],
   "source": [
    "plt.figure(figsize=(8,6))\n",
    "\n",
    "for name, group in grouped_stat:\n",
    "    sns.distplot(group['total'].dropna(), kde=False,  label=name)\n",
    "plt.title('Распределение выручки на тарифах', fontsize=14) \n",
    "plt.xlabel('Выручка, руб.', fontsize=12)\n",
    "plt.legend()\n",
    "plt.grid()"
   ]
  },
  {
   "cell_type": "markdown",
   "metadata": {},
   "source": [
    "Посмотрим, какую долю составляют пользователи тарифа ultra."
   ]
  },
  {
   "cell_type": "code",
   "execution_count": 54,
   "metadata": {
    "scrolled": false
   },
   "outputs": [
    {
     "name": "stdout",
     "output_type": "stream",
     "text": [
      "0.31\n"
     ]
    }
   ],
   "source": [
    "print('{:.2f}'.format(all_stat.query('tariff == \"ultra\"').shape[0] / all_stat.shape[0], 0))"
   ]
  },
  {
   "cell_type": "markdown",
   "metadata": {},
   "source": [
    "В нашей выборке оказалось всего 31% пользователей тарифа `ultra`.  \n",
    "Средний пользователь тарифа `smart` звонит от 25 до 70 раз в месяц. Распределение величины нормальное, почти без скосов. Видно, что количество звонков более 100 уже редкое явление на этом тарифе.  \n",
    "  \n",
    "В среднем пользователи тарифа `smart` расходуют около 417 минут разговора в месяц. Также в среднем на это требуется около 47 звонков. Распределение нормальное, практически нескошенное. По распределению видно, что пик приходится на время разговоров от 200 до 600 минут в месяц.  "
   ]
  },
  {
   "cell_type": "markdown",
   "metadata": {},
   "source": [
    "На тарифе `ultra` распределение количества звонков неоднородное. Видно несколько пиков и с 25 - 50 звонками в месяц, и с 50 - 80 звонками. Негладкость распределения вызвана нехваткой данных. Пользователей этого тарифа у нас всего 31%.   \n",
    "Разговаривают здесь в среднем 526 минут. По распределению видно, что большинство пользователей говорят от 250 до 750 минут. Но пик не ярко выраженный. Распределение чуть скошено вправо. Есть редкие значения разговоров более 1500 минут в месяц."
   ]
  },
  {
   "cell_type": "markdown",
   "metadata": {},
   "source": [
    "Пользователи тратят мало сообщений. На тарифе `smart` в среднем пишут до 40 сообщений в месяц. Распределение скошено вправо, так как есть значения и более 120. Но они уже редкость."
   ]
  },
  {
   "cell_type": "markdown",
   "metadata": {},
   "source": [
    "На тарифе `ultra` распределение похоже на тариф `smart`. Но здесь значения 70-80 смс в месяц не редкость. В среднем отправляется 61 сообщение ежемесячно. Отметим, что значения больше 200 будем считать редкими."
   ]
  },
  {
   "cell_type": "markdown",
   "metadata": {},
   "source": [
    "Распределение величины объема потраченного интернет-трафика на тарифе `smart` нормальное, без скосов, с ярко выраженным пиком между 14000 мб и 20000 мб. Есть и редкие большие значения более 34000 мб. "
   ]
  },
  {
   "cell_type": "markdown",
   "metadata": {},
   "source": [
    "Гистограмма интернет-трафика на тарифе `ultra` не такая гладкая. Можно сказать, что пользователи тратят в большинстве своем от 10000 мб до 30000 мб. Будем считать значения более 48000 мб редкими."
   ]
  },
  {
   "cell_type": "markdown",
   "metadata": {},
   "source": [
    "### Уберем редкие значения"
   ]
  },
  {
   "cell_type": "markdown",
   "metadata": {},
   "source": [
    "Построим диаграммы размаха, чтобы убедиться, что мы нашли аномальные значения верно."
   ]
  },
  {
   "cell_type": "code",
   "execution_count": 55,
   "metadata": {},
   "outputs": [
    {
     "data": {
      "image/png": "[encoded data removed]",
      "text/plain": [
       "<Figure size 720x792 with 4 Axes>"
      ]
     },
     "metadata": {
      "needs_background": "light"
     },
     "output_type": "display_data"
    }
   ],
   "source": [
    "grouped_stat = all_stat.groupby('tariff')\n",
    "cols_count = 2\n",
    "rows_count = 2\n",
    "\n",
    "fig, axes = plt.subplots(rows_count, cols_count, figsize=(10, 11))\n",
    "cols = ['calls_count', 'minutes_sum', 'messages_count', 'mb_used']\n",
    "\n",
    "for i in range(0, len(cols)):\n",
    "    row = i // cols_count \n",
    "    col = i % cols_count\n",
    "    sns.boxplot(y= all_stat[cols[i]].dropna(), x='tariff', data=all_stat, ax=axes[row, col])\n",
    "    axes[row, col].grid()       \n",
    "    axes[row, col].set_xlabel(cols[i])\n",
    "    axes[row, col].set(title=f'Признак {cols[i]}')"
   ]
  },
  {
   "cell_type": "markdown",
   "metadata": {},
   "source": [
    "Последняя диаграмма подсказывает нам, что на тарифе `smart` есть редкие маленькие значения меньше 1000. Уберем и их."
   ]
  },
  {
   "cell_type": "code",
   "execution_count": 56,
   "metadata": {},
   "outputs": [],
   "source": [
    "filtered_stat = all_stat.query('(tariff == \"smart\" & minutes_sum < 1000 & messages_count < 120 &  1000 < mb_used < 34000) | \\\n",
    "(tariff == \"ultra\" & minutes_sum < 1500 & messages_count < 200 & mb_used < 48000)').copy()"
   ]
  },
  {
   "cell_type": "markdown",
   "metadata": {},
   "source": [
    "Построим диаграммы размаха для полученного столбца с выручкой.  "
   ]
  },
  {
   "cell_type": "code",
   "execution_count": 57,
   "metadata": {},
   "outputs": [
    {
     "data": {
      "image/png": "[encoded data removed]",
      "text/plain": [
       "<Figure size 432x288 with 1 Axes>"
      ]
     },
     "metadata": {
      "needs_background": "light"
     },
     "output_type": "display_data"
    }
   ],
   "source": [
    "sns.boxplot(y='total', x='tariff', data=filtered_stat);"
   ]
  },
  {
   "cell_type": "markdown",
   "metadata": {},
   "source": [
    "Такой результат для тарифа `ultra` получился из-за того, что данных мало и почти у всех сумма выручки одна и та же - ставка по тарифу в 1950 рублей. Но мы можем соотнести медианы распределений."
   ]
  },
  {
   "cell_type": "markdown",
   "metadata": {},
   "source": [
    "Видим, что больше 75% пользователей тарифа `smart` платят меньше медианы распределения по тарифу `ultra`. Исходя из этих данных можно предположить, что тариф `ultra` более привлекателен для рекламных вложений."
   ]
  },
  {
   "cell_type": "code",
   "execution_count": 58,
   "metadata": {},
   "outputs": [
    {
     "data": {
      "text/html": [
       "<div>\n",
       "<style scoped>\n",
       "    .dataframe tbody tr th:only-of-type {\n",
       "        vertical-align: middle;\n",
       "    }\n",
       "\n",
       "    .dataframe tbody tr th {\n",
       "        vertical-align: top;\n",
       "    }\n",
       "\n",
       "    .dataframe thead tr th {\n",
       "        text-align: left;\n",
       "    }\n",
       "\n",
       "    .dataframe thead tr:last-of-type th {\n",
       "        text-align: right;\n",
       "    }\n",
       "</style>\n",
       "<table border=\"1\" class=\"dataframe\">\n",
       "  <thead>\n",
       "    <tr>\n",
       "      <th></th>\n",
       "      <th>mean</th>\n",
       "      <th>sum</th>\n",
       "      <th>count</th>\n",
       "    </tr>\n",
       "    <tr>\n",
       "      <th></th>\n",
       "      <th>total</th>\n",
       "      <th>total</th>\n",
       "      <th>total</th>\n",
       "    </tr>\n",
       "    <tr>\n",
       "      <th>tariff</th>\n",
       "      <th></th>\n",
       "      <th></th>\n",
       "      <th></th>\n",
       "    </tr>\n",
       "  </thead>\n",
       "  <tbody>\n",
       "    <tr>\n",
       "      <td>smart</td>\n",
       "      <td>1271.534079</td>\n",
       "      <td>2387941.0</td>\n",
       "      <td>1878</td>\n",
       "    </tr>\n",
       "    <tr>\n",
       "      <td>ultra</td>\n",
       "      <td>2046.572581</td>\n",
       "      <td>1522650.0</td>\n",
       "      <td>744</td>\n",
       "    </tr>\n",
       "  </tbody>\n",
       "</table>\n",
       "</div>"
      ],
      "text/plain": [
       "               mean        sum count\n",
       "              total      total total\n",
       "tariff                              \n",
       "smart   1271.534079  2387941.0  1878\n",
       "ultra   2046.572581  1522650.0   744"
      ]
     },
     "execution_count": 58,
     "metadata": {},
     "output_type": "execute_result"
    }
   ],
   "source": [
    "filtered_stat.pivot_table(index='tariff', values='total', aggfunc=['mean', 'sum', 'count'])"
   ]
  },
  {
   "cell_type": "markdown",
   "metadata": {},
   "source": [
    "Исходя из данных таблицы можем сделать предположение, что средние выручки по тарифам отличаются.  \n",
    "Из таблицы видно, что в пересчете на пользователя средняя выручка по тарифу `ultra` больше. Но так как в нашей выборке таких пользователей меньше, суммарно доход больше от пользователей тарифа `smart`."
   ]
  },
  {
   "cell_type": "code",
   "execution_count": 59,
   "metadata": {},
   "outputs": [],
   "source": [
    "def create_overpayment_stat(filtered_stat, tariffs_data):\n",
    "    \"\"\"\n",
    "    Возвращает таблицу с информацией о средних значениях переплат пользователей,\n",
    "    сгруппированную по тарифам\n",
    "    \"\"\"\n",
    "    overpayment_stat = filtered_stat.groupby('tariff')\\\n",
    "    .agg({'overpayment': ['mean', 'count'], 'total': ['count', 'mean']})\n",
    "    \n",
    "    # Найдем какой процент пользователей данного тарифа платит больше тарифной ставки\n",
    "    overpayment_stat['overpay_percent'] = \\\n",
    "    round(overpayment_stat['overpayment']['count']/overpayment_stat['total']['count'], 2) * 100\n",
    "    \n",
    "    # Добавим для наглядности саму тарифную ставку\n",
    "    overpayment_stat['tariff_fee'] = tariffs_data['rub_monthly_fee'].to_list()\n",
    "    \n",
    "    # Удалим вспомогательные столбцы\n",
    "    overpayment_stat.drop([('total', 'count'), ('overpayment', 'count')], axis=1, inplace=True)\n",
    "    overpayment_stat.columns = overpayment_stat.columns.droplevel(1)\n",
    "    \n",
    "    # Переименуем бывшие столбцы с мультииндексом\n",
    "    overpayment_stat.rename(columns={'overpayment': \"overpayment_mean\", 'total': \"total_mean\"}, inplace=True)\n",
    "    \n",
    "    return overpayment_stat"
   ]
  },
  {
   "cell_type": "markdown",
   "metadata": {},
   "source": [
    "Те строки, в которых переплата равна 0, заполним NaN, чтобы легче было считать count для этого столбца."
   ]
  },
  {
   "cell_type": "code",
   "execution_count": 60,
   "metadata": {},
   "outputs": [],
   "source": [
    "filtered_stat.loc[filtered_stat['overpayment'] == 0, 'overpayment'] = np.NaN"
   ]
  },
  {
   "cell_type": "code",
   "execution_count": 61,
   "metadata": {},
   "outputs": [
    {
     "data": {
      "text/html": [
       "<div>\n",
       "<style scoped>\n",
       "    .dataframe tbody tr th:only-of-type {\n",
       "        vertical-align: middle;\n",
       "    }\n",
       "\n",
       "    .dataframe tbody tr th {\n",
       "        vertical-align: top;\n",
       "    }\n",
       "\n",
       "    .dataframe thead th {\n",
       "        text-align: right;\n",
       "    }\n",
       "</style>\n",
       "<table border=\"1\" class=\"dataframe\">\n",
       "  <thead>\n",
       "    <tr style=\"text-align: right;\">\n",
       "      <th></th>\n",
       "      <th>overpayment_mean</th>\n",
       "      <th>total_mean</th>\n",
       "      <th>overpay_percent</th>\n",
       "      <th>tariff_fee</th>\n",
       "    </tr>\n",
       "    <tr>\n",
       "      <th>tariff</th>\n",
       "      <th></th>\n",
       "      <th></th>\n",
       "      <th></th>\n",
       "      <th></th>\n",
       "    </tr>\n",
       "  </thead>\n",
       "  <tbody>\n",
       "    <tr>\n",
       "      <td>smart</td>\n",
       "      <td>954.926709</td>\n",
       "      <td>1271.534079</td>\n",
       "      <td>76.0</td>\n",
       "      <td>550</td>\n",
       "    </tr>\n",
       "    <tr>\n",
       "      <td>ultra</td>\n",
       "      <td>807.303371</td>\n",
       "      <td>2046.572581</td>\n",
       "      <td>12.0</td>\n",
       "      <td>1950</td>\n",
       "    </tr>\n",
       "  </tbody>\n",
       "</table>\n",
       "</div>"
      ],
      "text/plain": [
       "        overpayment_mean   total_mean  overpay_percent  tariff_fee\n",
       "tariff                                                            \n",
       "smart         954.926709  1271.534079             76.0         550\n",
       "ultra         807.303371  2046.572581             12.0        1950"
      ]
     },
     "execution_count": 61,
     "metadata": {},
     "output_type": "execute_result"
    }
   ],
   "source": [
    "overpay_stat = create_overpayment_stat(filtered_stat, tariffs_data)\n",
    "overpay_stat"
   ]
  },
  {
   "cell_type": "markdown",
   "metadata": {},
   "source": [
    "Как видим, 76% пользователей тарифа `smart` и всего 12% пользователей тарифа `ultra`превышают тарифные лимиты минут, смс или трафика. В среднем переплата у пользователей тарифа `smart` больше и заметно привышает плату по данному тарифу."
   ]
  },
  {
   "cell_type": "markdown",
   "metadata": {},
   "source": [
    "Рассмотрим пользователей из Москвы."
   ]
  },
  {
   "cell_type": "code",
   "execution_count": 62,
   "metadata": {
    "scrolled": true
   },
   "outputs": [
    {
     "name": "stdout",
     "output_type": "stream",
     "text": [
      "18.61%\n"
     ]
    }
   ],
   "source": [
    "print('{:.2%}'.format(filtered_stat.query('is_moscow == True')['is_moscow'].sum()/filtered_stat.shape[0]))"
   ]
  },
  {
   "cell_type": "markdown",
   "metadata": {},
   "source": [
    "В нашей выборке 18.61% записей о пользователях из Москвы."
   ]
  },
  {
   "cell_type": "markdown",
   "metadata": {},
   "source": [
    "Посмотрим на статистики в зависимости от города."
   ]
  },
  {
   "cell_type": "code",
   "execution_count": 63,
   "metadata": {},
   "outputs": [
    {
     "name": "stdout",
     "output_type": "stream",
     "text": [
      "Статистика для жителей Москвы:\n"
     ]
    },
    {
     "data": {
      "text/html": [
       "<div>\n",
       "<style scoped>\n",
       "    .dataframe tbody tr th:only-of-type {\n",
       "        vertical-align: middle;\n",
       "    }\n",
       "\n",
       "    .dataframe tbody tr th {\n",
       "        vertical-align: top;\n",
       "    }\n",
       "\n",
       "    .dataframe thead th {\n",
       "        text-align: right;\n",
       "    }\n",
       "</style>\n",
       "<table border=\"1\" class=\"dataframe\">\n",
       "  <thead>\n",
       "    <tr style=\"text-align: right;\">\n",
       "      <th></th>\n",
       "      <th>calls_count</th>\n",
       "      <th>minutes_sum</th>\n",
       "      <th>messages_count</th>\n",
       "      <th>mb_used</th>\n",
       "    </tr>\n",
       "  </thead>\n",
       "  <tbody>\n",
       "    <tr>\n",
       "      <td>variance_estimate</td>\n",
       "      <td>770.231355</td>\n",
       "      <td>61000.554411</td>\n",
       "      <td>1281.353940</td>\n",
       "      <td>6.346409e+07</td>\n",
       "    </tr>\n",
       "    <tr>\n",
       "      <td>standard_deviation</td>\n",
       "      <td>27.753042</td>\n",
       "      <td>246.982903</td>\n",
       "      <td>35.796005</td>\n",
       "      <td>7.966435e+03</td>\n",
       "    </tr>\n",
       "    <tr>\n",
       "      <td>mean</td>\n",
       "      <td>53.145492</td>\n",
       "      <td>471.747951</td>\n",
       "      <td>47.266393</td>\n",
       "      <td>1.853124e+04</td>\n",
       "    </tr>\n",
       "  </tbody>\n",
       "</table>\n",
       "</div>"
      ],
      "text/plain": [
       "                    calls_count   minutes_sum  messages_count       mb_used\n",
       "variance_estimate    770.231355  61000.554411     1281.353940  6.346409e+07\n",
       "standard_deviation    27.753042    246.982903       35.796005  7.966435e+03\n",
       "mean                  53.145492    471.747951       47.266393  1.853124e+04"
      ]
     },
     "execution_count": 63,
     "metadata": {},
     "output_type": "execute_result"
    }
   ],
   "source": [
    "print('Статистика для жителей Москвы:')\n",
    "filtered_stat.query('is_moscow == True')[['calls_count', 'minutes_sum', 'messages_count', 'mb_used']]\\\n",
    ".apply(analyse_features, axis=0)"
   ]
  },
  {
   "cell_type": "code",
   "execution_count": 64,
   "metadata": {
    "scrolled": true
   },
   "outputs": [
    {
     "name": "stdout",
     "output_type": "stream",
     "text": [
      "Статистика для жителей других городов:\n"
     ]
    },
    {
     "data": {
      "text/html": [
       "<div>\n",
       "<style scoped>\n",
       "    .dataframe tbody tr th:only-of-type {\n",
       "        vertical-align: middle;\n",
       "    }\n",
       "\n",
       "    .dataframe tbody tr th {\n",
       "        vertical-align: top;\n",
       "    }\n",
       "\n",
       "    .dataframe thead th {\n",
       "        text-align: right;\n",
       "    }\n",
       "</style>\n",
       "<table border=\"1\" class=\"dataframe\">\n",
       "  <thead>\n",
       "    <tr style=\"text-align: right;\">\n",
       "      <th></th>\n",
       "      <th>calls_count</th>\n",
       "      <th>minutes_sum</th>\n",
       "      <th>messages_count</th>\n",
       "      <th>mb_used</th>\n",
       "    </tr>\n",
       "  </thead>\n",
       "  <tbody>\n",
       "    <tr>\n",
       "      <td>variance_estimate</td>\n",
       "      <td>637.951693</td>\n",
       "      <td>51548.930723</td>\n",
       "      <td>1087.675212</td>\n",
       "      <td>4.700032e+07</td>\n",
       "    </tr>\n",
       "    <tr>\n",
       "      <td>standard_deviation</td>\n",
       "      <td>25.257706</td>\n",
       "      <td>227.043896</td>\n",
       "      <td>32.979921</td>\n",
       "      <td>6.855678e+03</td>\n",
       "    </tr>\n",
       "    <tr>\n",
       "      <td>mean</td>\n",
       "      <td>51.086692</td>\n",
       "      <td>454.758201</td>\n",
       "      <td>44.192127</td>\n",
       "      <td>1.689388e+04</td>\n",
       "    </tr>\n",
       "  </tbody>\n",
       "</table>\n",
       "</div>"
      ],
      "text/plain": [
       "                    calls_count   minutes_sum  messages_count       mb_used\n",
       "variance_estimate    637.951693  51548.930723     1087.675212  4.700032e+07\n",
       "standard_deviation    25.257706    227.043896       32.979921  6.855678e+03\n",
       "mean                  51.086692    454.758201       44.192127  1.689388e+04"
      ]
     },
     "execution_count": 64,
     "metadata": {},
     "output_type": "execute_result"
    }
   ],
   "source": [
    "print('Статистика для жителей других городов:')\n",
    "filtered_stat.query('is_moscow == False')[['calls_count', 'minutes_sum', 'messages_count', 'mb_used']]\\\n",
    ".apply(analyse_features, axis=0)"
   ]
  },
  {
   "cell_type": "markdown",
   "metadata": {},
   "source": [
    "По статистикам видим, что в среднем жители Москвы делают больше звонков в месяц (53 против 51), у них больше средняя длительность разговоров (471 против 454), они отправляют больше смс (47 против 44) и используют больше трафика интернета (18531 мб против 16893 мб). Следует отметить также, что стандартное отклонение всех величин в выборке по городу Москва также выше. Но разница эта не сильно велика. Трудно сказать, достаточно ли этой разницы, чтобы сказать, что поведение и выручка пользователей из Москвы отличаются от пользователей из других городов."
   ]
  },
  {
   "cell_type": "markdown",
   "metadata": {},
   "source": [
    "Посмотрим на распределения величин."
   ]
  },
  {
   "cell_type": "code",
   "execution_count": 65,
   "metadata": {},
   "outputs": [
    {
     "data": {
      "image/png": "[encoded data removed]",
      "text/plain": [
       "<Figure size 720x792 with 4 Axes>"
      ]
     },
     "metadata": {
      "needs_background": "light"
     },
     "output_type": "display_data"
    }
   ],
   "source": [
    "grouped_moscow_stat = all_stat.groupby('is_moscow')\n",
    "cols_count = 2\n",
    "rows_count = 2\n",
    "\n",
    "fig, axes = plt.subplots(rows_count, cols_count, figsize=(10, 11))\n",
    "cols = ['calls_count', 'minutes_sum', 'messages_count', 'mb_used']\n",
    "\n",
    "for i in range(0, len(cols)):\n",
    "    for name, group in grouped_moscow_stat:\n",
    "        row = i // cols_count \n",
    "        col = i % cols_count\n",
    "        sns.distplot(group[cols[i]].dropna(), kde=False, label=name, ax=axes[row, col])\n",
    "        axes[row, col].grid(True)       \n",
    "        axes[row, col].set_xlabel(cols[i])\n",
    "        axes[row, col].legend()\n",
    "        axes[row, col].set(title=f'Признак {cols[i]}')"
   ]
  },
  {
   "cell_type": "markdown",
   "metadata": {},
   "source": [
    "Графики также наглядно показывают - пик количества звонков в выборке по городу Москва чуть сдвинут в сторону больше 50 тогда, как в других городах он в районе 50 звонков в месяц.  \n",
    "Гистограммы суммы минут разговора в Москве и в других городах схожи, но гистограмма Москвы не такая гладкая.  \n",
    "На гистограмме количества потраченных смс пик в Москве дальше от 0, чем в других городах.  \n",
    "Гистограммы интернет трафика похожи между собой.  \n",
    "Исходя из полученных данных, сложно сказать, отличается средняя выручка пользователей из Москвы от выручки пользователей из других городов или нет."
   ]
  },
  {
   "cell_type": "code",
   "execution_count": 66,
   "metadata": {},
   "outputs": [
    {
     "data": {
      "text/html": [
       "<div>\n",
       "<style scoped>\n",
       "    .dataframe tbody tr th:only-of-type {\n",
       "        vertical-align: middle;\n",
       "    }\n",
       "\n",
       "    .dataframe tbody tr th {\n",
       "        vertical-align: top;\n",
       "    }\n",
       "\n",
       "    .dataframe thead tr th {\n",
       "        text-align: left;\n",
       "    }\n",
       "\n",
       "    .dataframe thead tr:last-of-type th {\n",
       "        text-align: right;\n",
       "    }\n",
       "</style>\n",
       "<table border=\"1\" class=\"dataframe\">\n",
       "  <thead>\n",
       "    <tr>\n",
       "      <th></th>\n",
       "      <th>mean</th>\n",
       "      <th>sum</th>\n",
       "      <th>count</th>\n",
       "    </tr>\n",
       "    <tr>\n",
       "      <th></th>\n",
       "      <th>total</th>\n",
       "      <th>total</th>\n",
       "      <th>total</th>\n",
       "    </tr>\n",
       "    <tr>\n",
       "      <th>is_moscow</th>\n",
       "      <th></th>\n",
       "      <th></th>\n",
       "      <th></th>\n",
       "    </tr>\n",
       "  </thead>\n",
       "  <tbody>\n",
       "    <tr>\n",
       "      <td>False</td>\n",
       "      <td>1478.685567</td>\n",
       "      <td>3155515.0</td>\n",
       "      <td>2134</td>\n",
       "    </tr>\n",
       "    <tr>\n",
       "      <td>True</td>\n",
       "      <td>1547.286885</td>\n",
       "      <td>755076.0</td>\n",
       "      <td>488</td>\n",
       "    </tr>\n",
       "  </tbody>\n",
       "</table>\n",
       "</div>"
      ],
      "text/plain": [
       "                  mean        sum count\n",
       "                 total      total total\n",
       "is_moscow                              \n",
       "False      1478.685567  3155515.0  2134\n",
       "True       1547.286885   755076.0   488"
      ]
     },
     "execution_count": 66,
     "metadata": {},
     "output_type": "execute_result"
    }
   ],
   "source": [
    "filtered_stat.pivot_table(index='is_moscow', values='total', aggfunc=['mean', 'sum', 'count'])"
   ]
  },
  {
   "cell_type": "markdown",
   "metadata": {},
   "source": [
    "Также видим, что средняя выручка для жителя Москвы выше, чем выручка из других городов. Но разница невелика. Пользователей из Москвы в нашей выборке меньше, чем из других городов. Выборка несбалансирована по этому признаку."
   ]
  },
  {
   "cell_type": "markdown",
   "metadata": {},
   "source": [
    "Рассмотрим выборку пользователей, отказавшихся от тарифного плана."
   ]
  },
  {
   "cell_type": "code",
   "execution_count": 67,
   "metadata": {},
   "outputs": [
    {
     "data": {
      "text/html": [
       "<div>\n",
       "<style scoped>\n",
       "    .dataframe tbody tr th:only-of-type {\n",
       "        vertical-align: middle;\n",
       "    }\n",
       "\n",
       "    .dataframe tbody tr th {\n",
       "        vertical-align: top;\n",
       "    }\n",
       "\n",
       "    .dataframe thead tr th {\n",
       "        text-align: left;\n",
       "    }\n",
       "\n",
       "    .dataframe thead tr:last-of-type th {\n",
       "        text-align: right;\n",
       "    }\n",
       "</style>\n",
       "<table border=\"1\" class=\"dataframe\">\n",
       "  <thead>\n",
       "    <tr>\n",
       "      <th></th>\n",
       "      <th></th>\n",
       "      <th colspan=\"2\" halign=\"left\">mean</th>\n",
       "      <th colspan=\"2\" halign=\"left\">count</th>\n",
       "    </tr>\n",
       "    <tr>\n",
       "      <th></th>\n",
       "      <th></th>\n",
       "      <th>overpayment</th>\n",
       "      <th>total</th>\n",
       "      <th>overpayment</th>\n",
       "      <th>total</th>\n",
       "    </tr>\n",
       "    <tr>\n",
       "      <th>is_churn</th>\n",
       "      <th>tariff</th>\n",
       "      <th></th>\n",
       "      <th></th>\n",
       "      <th></th>\n",
       "      <th></th>\n",
       "    </tr>\n",
       "  </thead>\n",
       "  <tbody>\n",
       "    <tr>\n",
       "      <td rowspan=\"2\" valign=\"top\">False</td>\n",
       "      <td>smart</td>\n",
       "      <td>949.896628</td>\n",
       "      <td>1277.898315</td>\n",
       "      <td>1364</td>\n",
       "      <td>1780</td>\n",
       "    </tr>\n",
       "    <tr>\n",
       "      <td>ultra</td>\n",
       "      <td>795.882353</td>\n",
       "      <td>2046.230441</td>\n",
       "      <td>85</td>\n",
       "      <td>703</td>\n",
       "    </tr>\n",
       "    <tr>\n",
       "      <td rowspan=\"2\" valign=\"top\">True</td>\n",
       "      <td>smart</td>\n",
       "      <td>1079.672727</td>\n",
       "      <td>1155.938776</td>\n",
       "      <td>55</td>\n",
       "      <td>98</td>\n",
       "    </tr>\n",
       "    <tr>\n",
       "      <td>ultra</td>\n",
       "      <td>1050.000000</td>\n",
       "      <td>2052.439024</td>\n",
       "      <td>4</td>\n",
       "      <td>41</td>\n",
       "    </tr>\n",
       "  </tbody>\n",
       "</table>\n",
       "</div>"
      ],
      "text/plain": [
       "                        mean                    count      \n",
       "                 overpayment        total overpayment total\n",
       "is_churn tariff                                            \n",
       "False    smart    949.896628  1277.898315        1364  1780\n",
       "         ultra    795.882353  2046.230441          85   703\n",
       "True     smart   1079.672727  1155.938776          55    98\n",
       "         ultra   1050.000000  2052.439024           4    41"
      ]
     },
     "execution_count": 67,
     "metadata": {},
     "output_type": "execute_result"
    }
   ],
   "source": [
    "filtered_stat.pivot_table(index=['is_churn', 'tariff'], values=['total', 'overpayment'], aggfunc=['mean', 'count'])"
   ]
  },
  {
   "cell_type": "markdown",
   "metadata": {},
   "source": [
    "На тарифе `smart` больше половины пользователей, отказавшихся от услуг оператора, платила больше тарифной ставки. Но стоит заметить, что на том же тарифе пользователи, которые продолжали им пользоваться, гораздо больше, чем в половине случаев также превышали лимиты пакета услуг."
   ]
  },
  {
   "cell_type": "code",
   "execution_count": 68,
   "metadata": {},
   "outputs": [
    {
     "data": {
      "text/plain": [
       "count    139.000000\n",
       "mean     157.330935\n",
       "std       76.197530\n",
       "min       23.000000\n",
       "25%       95.000000\n",
       "50%      142.000000\n",
       "75%      224.000000\n",
       "max      284.000000\n",
       "Name: days_in_use, dtype: float64"
      ]
     },
     "execution_count": 68,
     "metadata": {},
     "output_type": "execute_result"
    }
   ],
   "source": [
    "filtered_stat.query('is_churn == True')['days_in_use'].describe()"
   ]
  },
  {
   "cell_type": "markdown",
   "metadata": {},
   "source": [
    "В среднем клиенты оператора пользовались услугами меньше полугода. А кто-то и меньше месяца."
   ]
  },
  {
   "cell_type": "code",
   "execution_count": 69,
   "metadata": {},
   "outputs": [
    {
     "name": "stdout",
     "output_type": "stream",
     "text": [
      "Статистика по тарифу Smart:\n"
     ]
    },
    {
     "data": {
      "text/html": [
       "<div>\n",
       "<style scoped>\n",
       "    .dataframe tbody tr th:only-of-type {\n",
       "        vertical-align: middle;\n",
       "    }\n",
       "\n",
       "    .dataframe tbody tr th {\n",
       "        vertical-align: top;\n",
       "    }\n",
       "\n",
       "    .dataframe thead th {\n",
       "        text-align: right;\n",
       "    }\n",
       "</style>\n",
       "<table border=\"1\" class=\"dataframe\">\n",
       "  <thead>\n",
       "    <tr style=\"text-align: right;\">\n",
       "      <th></th>\n",
       "      <th>calls_count</th>\n",
       "      <th>minutes_sum</th>\n",
       "      <th>messages_count</th>\n",
       "      <th>mb_used</th>\n",
       "    </tr>\n",
       "  </thead>\n",
       "  <tbody>\n",
       "    <tr>\n",
       "      <td>variance_estimate</td>\n",
       "      <td>184.375415</td>\n",
       "      <td>15367.825028</td>\n",
       "      <td>144.664452</td>\n",
       "      <td>1.636956e+07</td>\n",
       "    </tr>\n",
       "    <tr>\n",
       "      <td>standard_deviation</td>\n",
       "      <td>13.578491</td>\n",
       "      <td>123.967032</td>\n",
       "      <td>12.027654</td>\n",
       "      <td>4.045931e+03</td>\n",
       "    </tr>\n",
       "    <tr>\n",
       "      <td>mean</td>\n",
       "      <td>29.651163</td>\n",
       "      <td>265.279070</td>\n",
       "      <td>21.046512</td>\n",
       "      <td>9.489279e+03</td>\n",
       "    </tr>\n",
       "    <tr>\n",
       "      <td>tariff_included</td>\n",
       "      <td>0.000000</td>\n",
       "      <td>500.000000</td>\n",
       "      <td>50.000000</td>\n",
       "      <td>1.536000e+04</td>\n",
       "    </tr>\n",
       "  </tbody>\n",
       "</table>\n",
       "</div>"
      ],
      "text/plain": [
       "                    calls_count   minutes_sum  messages_count       mb_used\n",
       "variance_estimate    184.375415  15367.825028      144.664452  1.636956e+07\n",
       "standard_deviation    13.578491    123.967032       12.027654  4.045931e+03\n",
       "mean                  29.651163    265.279070       21.046512  9.489279e+03\n",
       "tariff_included        0.000000    500.000000       50.000000  1.536000e+04"
      ]
     },
     "execution_count": 69,
     "metadata": {},
     "output_type": "execute_result"
    }
   ],
   "source": [
    "print('Статистика по тарифу Smart:')\n",
    "\n",
    "smart_stat = filtered_stat.query('is_churn == True & overpayment.isna() & tariff == \"smart\"')\\\n",
    "[['calls_count', 'minutes_sum', 'messages_count', 'mb_used']]\\\n",
    ".apply(analyse_features, axis=0)\n",
    "\n",
    "tariff_included_row = [0, tariffs_data.loc[0, 'minutes_included'], \\\n",
    "       tariffs_data.loc[0, 'messages_included'], tariffs_data.loc[0, 'mb_per_month_included']]\n",
    "smart_stat.loc['tariff_included'] = tariff_included_row\n",
    "smart_stat"
   ]
  },
  {
   "cell_type": "code",
   "execution_count": 70,
   "metadata": {
    "scrolled": true
   },
   "outputs": [
    {
     "name": "stdout",
     "output_type": "stream",
     "text": [
      "Статистика по тарифу Ultra:\n"
     ]
    },
    {
     "data": {
      "text/html": [
       "<div>\n",
       "<style scoped>\n",
       "    .dataframe tbody tr th:only-of-type {\n",
       "        vertical-align: middle;\n",
       "    }\n",
       "\n",
       "    .dataframe tbody tr th {\n",
       "        vertical-align: top;\n",
       "    }\n",
       "\n",
       "    .dataframe thead th {\n",
       "        text-align: right;\n",
       "    }\n",
       "</style>\n",
       "<table border=\"1\" class=\"dataframe\">\n",
       "  <thead>\n",
       "    <tr style=\"text-align: right;\">\n",
       "      <th></th>\n",
       "      <th>calls_count</th>\n",
       "      <th>minutes_sum</th>\n",
       "      <th>messages_count</th>\n",
       "      <th>mb_used</th>\n",
       "    </tr>\n",
       "  </thead>\n",
       "  <tbody>\n",
       "    <tr>\n",
       "      <td>variance_estimate</td>\n",
       "      <td>715.807808</td>\n",
       "      <td>48510.695195</td>\n",
       "      <td>935.768769</td>\n",
       "      <td>7.410234e+07</td>\n",
       "    </tr>\n",
       "    <tr>\n",
       "      <td>standard_deviation</td>\n",
       "      <td>26.754585</td>\n",
       "      <td>220.251436</td>\n",
       "      <td>30.590338</td>\n",
       "      <td>8.608272e+03</td>\n",
       "    </tr>\n",
       "    <tr>\n",
       "      <td>mean</td>\n",
       "      <td>46.567568</td>\n",
       "      <td>411.837838</td>\n",
       "      <td>47.189189</td>\n",
       "      <td>1.517611e+04</td>\n",
       "    </tr>\n",
       "    <tr>\n",
       "      <td>tariff_included</td>\n",
       "      <td>0.000000</td>\n",
       "      <td>500.000000</td>\n",
       "      <td>50.000000</td>\n",
       "      <td>1.536000e+04</td>\n",
       "    </tr>\n",
       "  </tbody>\n",
       "</table>\n",
       "</div>"
      ],
      "text/plain": [
       "                    calls_count   minutes_sum  messages_count       mb_used\n",
       "variance_estimate    715.807808  48510.695195      935.768769  7.410234e+07\n",
       "standard_deviation    26.754585    220.251436       30.590338  8.608272e+03\n",
       "mean                  46.567568    411.837838       47.189189  1.517611e+04\n",
       "tariff_included        0.000000    500.000000       50.000000  1.536000e+04"
      ]
     },
     "execution_count": 70,
     "metadata": {},
     "output_type": "execute_result"
    }
   ],
   "source": [
    "print('Статистика по тарифу Ultra:')\n",
    "\n",
    "ultra_stat = filtered_stat.query('is_churn == True & overpayment.isna() & tariff == \"ultra\"')\\\n",
    "[['calls_count', 'minutes_sum', 'messages_count', 'mb_used']].apply(analyse_features, axis=0)\n",
    "\n",
    "tariff_included_row = [0, tariffs_data.loc[0, 'minutes_included'], \\\n",
    "       tariffs_data.loc[0, 'messages_included'], tariffs_data.loc[0, 'mb_per_month_included']]\n",
    "ultra_stat.loc['tariff_included'] = tariff_included_row\n",
    "ultra_stat"
   ]
  },
  {
   "cell_type": "markdown",
   "metadata": {},
   "source": [
    "Также можем отметить, что среди тех, кто не переплачивал, пользователи тарифа `smart` тратили сильно меньше предлагаемых услуг по пакету тарифа. Может быть они ушли на поиски более дешевого тарифа с меньшими значениями в пакете услуг.  \n",
    "Пользователи тарифа `ultra` в среднем тратили почти все, что предоставлялось тарифным планом. Они могли нуждаться в тарифе с большими объемами услуг.  "
   ]
  },
  {
   "cell_type": "markdown",
   "metadata": {},
   "source": [
    "### Шаг 4. Проверка гипотез  \n",
    "  \n",
    "- средняя выручка пользователей тарифов `ultra` и `smart` различается;\n",
    "- средняя выручка пользователей из Москвы отличается от выручки пользователей из других регионов."
   ]
  },
  {
   "cell_type": "markdown",
   "metadata": {},
   "source": [
    "Зададим критический уровень статистической значимости."
   ]
  },
  {
   "cell_type": "code",
   "execution_count": 71,
   "metadata": {},
   "outputs": [],
   "source": [
    "alpha = 0.05"
   ]
  },
  {
   "cell_type": "markdown",
   "metadata": {},
   "source": [
    "Наша нулевая гипотеза будет звучать так: средние выручки по тарифам `ultra` и `smart` одинаковы.  \n",
    "Тогда альтернативная гипотеза будет такой: средние выручки по тарифам `ultra` и `smart` отличаются."
   ]
  },
  {
   "cell_type": "code",
   "execution_count": 72,
   "metadata": {},
   "outputs": [],
   "source": [
    "results = st.ttest_ind(filtered_stat.query('tariff == \"smart\"')['total'], \n",
    "                       filtered_stat.query('tariff == \"ultra\"')['total'])"
   ]
  },
  {
   "cell_type": "code",
   "execution_count": 73,
   "metadata": {},
   "outputs": [
    {
     "data": {
      "text/plain": [
       "5.507813992019588e-138"
      ]
     },
     "execution_count": 73,
     "metadata": {},
     "output_type": "execute_result"
    }
   ],
   "source": [
    "results.pvalue"
   ]
  },
  {
   "cell_type": "code",
   "execution_count": 74,
   "metadata": {},
   "outputs": [
    {
     "name": "stdout",
     "output_type": "stream",
     "text": [
      "Отвергаем нулевую гипотезу\n"
     ]
    }
   ],
   "source": [
    "if (results.pvalue < alpha):\n",
    "    print(\"Отвергаем нулевую гипотезу\")\n",
    "else:\n",
    "    print(\"Не получилось отвергнуть нулевую гипотезу\")"
   ]
  },
  {
   "cell_type": "markdown",
   "metadata": {},
   "source": [
    "Так как наше значение pvalue гораздо меньше заданного порога статистической значимости, мы отвергаем нулевую гипотезу о том, что средние значения датасетов одинаковы. Таким образом, можем сказать, что средние значения датасетов по разным тарифам действительно отличаются."
   ]
  },
  {
   "cell_type": "markdown",
   "metadata": {},
   "source": [
    "Рассмотрим выручки от выборок с пользователями из Москвы и из остальных городов."
   ]
  },
  {
   "cell_type": "markdown",
   "metadata": {},
   "source": [
    "Наша нулевая гипотеза будет звучать так: средние выручки пользователей из Москвы и из других регионов одинаковы.  \n",
    "Альтернативная гипотеза: средние выручки пользователей из Москвы и из других регионов отличны."
   ]
  },
  {
   "cell_type": "code",
   "execution_count": 75,
   "metadata": {},
   "outputs": [],
   "source": [
    "moscow_total = filtered_stat.query('is_moscow == True')['total']\n",
    "other_total = filtered_stat.query('is_moscow == False')['total']"
   ]
  },
  {
   "cell_type": "code",
   "execution_count": 76,
   "metadata": {},
   "outputs": [],
   "source": [
    "results = st.ttest_ind(moscow_total, other_total)"
   ]
  },
  {
   "cell_type": "code",
   "execution_count": 77,
   "metadata": {},
   "outputs": [
    {
     "data": {
      "text/plain": [
       "0.07143123030728966"
      ]
     },
     "execution_count": 77,
     "metadata": {},
     "output_type": "execute_result"
    }
   ],
   "source": [
    "results.pvalue"
   ]
  },
  {
   "cell_type": "code",
   "execution_count": 78,
   "metadata": {},
   "outputs": [
    {
     "name": "stdout",
     "output_type": "stream",
     "text": [
      "Не получилось отвергнуть нулевую гипотезу\n"
     ]
    }
   ],
   "source": [
    "if (results.pvalue < alpha):\n",
    "    print(\"Отвергаем нулевую гипотезу\")\n",
    "else:\n",
    "    print(\"Не получилось отвергнуть нулевую гипотезу\")"
   ]
  },
  {
   "cell_type": "markdown",
   "metadata": {},
   "source": [
    "Значение pvalue больше заданного порога статистической значимости, мы не можем отвергнуть гипотезу о том, что средние значения датасетов одинаковы. Значит, мы не можем сказать, что выручка пользователей из Москвы отличается от выручки пользователей из других регионов."
   ]
  },
  {
   "cell_type": "markdown",
   "metadata": {},
   "source": [
    "### Общий вывод"
   ]
  },
  {
   "cell_type": "markdown",
   "metadata": {},
   "source": [
    "Целью нашего исследования было проанализировать поведение клиентов на двух разных тарифах сотовой связи и сделать вывод — какой тариф лучше.  \n",
    "В нашей выборке оказалось всего 31% пользователей тарифа `ultra`.    \n",
    "Мы выяснили, что пользователи тарифа `smart` в среднем говорят реже, меньше (417 минут разговора smart/526 минут разговора ultra), тратят меньше смс (38 смс smart/61 смс ultra) и интернет трафика (16236 мб smart / 30720 мб ultra), чем пользователи тарифа `ultra`."
   ]
  },
  {
   "cell_type": "markdown",
   "metadata": {},
   "source": [
    "Видим, что больше 75% пользователей тарифа `smart` платят меньше медианы распределения по тарифу `ultra`.  "
   ]
  },
  {
   "cell_type": "markdown",
   "metadata": {},
   "source": [
    "По данным о выручке выяснили, что в пересчете на пользователя средняя выручка по тарифу `ultra` больше. Но так как в нашей выборке таких пользователей меньше, суммарно доход больше от пользователей тарифа `smart`.  \n",
    "Исходя из полученных статистик мы выдвинули гипотезу, что средние выручки по тарифам отличаются. В дальнейшем мы смогли её подтвердить.   "
   ]
  },
  {
   "cell_type": "markdown",
   "metadata": {},
   "source": [
    "Предположение о том, что поведение и выручка пользователей из города Москва может как-то отличаться от пользователей в других городах не подтвердилось."
   ]
  },
  {
   "cell_type": "markdown",
   "metadata": {},
   "source": [
    "Стоит также заметить, что пользователи тарифа `smart` часто платят больше тарифной ставки, так как тратят больше минут разговора, интернет трафика, чем предлагает тариф. Но итоговая сумма их оплаты все равно меньше, чем пакет тарифа `ultra`. Этим пользователям можно предложить перейти на тариф `ultra`, где запас минут, смс и трафика значительно больше. Также напомню, что в пересчете на пользователя, прибыль с тарифа `ultra` больше.  \n",
    "В заключение, можем сделать вывод, что тариф `ultra` более перспективен для привлечения клиентов."
   ]
  }
 ],
 "metadata": {
  "kernelspec": {
   "display_name": "Python 3",
   "language": "python",
   "name": "python3"
  },
  "language_info": {
   "codemirror_mode": {
    "name": "ipython",
    "version": 3
   },
   "file_extension": ".py",
   "mimetype": "text/x-python",
   "name": "python",
   "nbconvert_exporter": "python",
   "pygments_lexer": "ipython3",
   "version": "3.7.6"
  }
 },
 "nbformat": 4,
 "nbformat_minor": 2
}
